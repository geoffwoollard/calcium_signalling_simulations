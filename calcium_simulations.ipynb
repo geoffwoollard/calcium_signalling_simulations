{
  "nbformat": 4,
  "nbformat_minor": 0,
  "metadata": {
    "colab": {
      "name": "calcium-simulations.ipynb",
      "provenance": [],
      "collapsed_sections": [],
      "toc_visible": true,
      "machine_shape": "hm",
      "authorship_tag": "ABX9TyNL2Bm6UBMsGU0at2A0hzRg",
      "include_colab_link": true
    },
    "kernelspec": {
      "name": "python3",
      "display_name": "Python 3"
    }
  },
  "cells": [
    {
      "cell_type": "markdown",
      "metadata": {
        "id": "view-in-github",
        "colab_type": "text"
      },
      "source": [
        "<a href=\"https://colab.research.google.com/github/geoffwoollard/calcium_signalling_simulations/blob/master/calcium_simulations.ipynb\" target=\"_parent\"><img src=\"https://colab.research.google.com/assets/colab-badge.svg\" alt=\"Open In Colab\"/></a>"
      ]
    },
    {
      "cell_type": "markdown",
      "metadata": {
        "id": "NvZinGep4i5h",
        "colab_type": "text"
      },
      "source": [
        "# Goal\n",
        "- develop intuition about Ca2+ concentration around  IP3R with simulations\n",
        "\n",
        "\n",
        "# TODO\n",
        "- implement Ca2+ buffer examples in, Wieder et al, 2020, 31.13 Working Examples, pp. 787-791"
      ]
    },
    {
      "cell_type": "markdown",
      "metadata": {
        "id": "PkY_gKFU8qFW",
        "colab_type": "text"
      },
      "source": [
        "# Resources\n",
        "\n",
        "De Young, G. W., & Keizer, J. (1992). A single-pool inositol 1,4,5-trisphosphate-receptor-based model for agonist-stimulated oscillations in Ca2+ concentration. Proceedings of the National Academy of Sciences, 89(20), 9895–9899. http://doi.org/10.1073/pnas.89.20.9895\n",
        "* early development of IP3 and calcium (activating and deactivation) binding sites.\n",
        "\n",
        "Schneidman, E., Freedman, B., & Segev, I. (1998). Ion Channel Stochasticity May Be Critical in Determining the Reliability and Precision of Spike Timing. Neural Computation, 10(7), 1679–1703. http://doi.org/10.1162/089976698300017089\n",
        "\n",
        "Shuai, J.-W., & Jung, P. (2002). Stochastic Properties of Ca2+ Release of Inositol 1,4,5-Trisphosphate Receptor Clusters. Biophysical Journal, 83(1), 87–97. http://doi.org/10.1016/S0006-3495(02)75151-5\n",
        "\n",
        "Shuai, J. W., & Jung, P. (2003). Optimal ion channel clustering for intracellular calcium signaling. Proceedings of the National Academy of Sciences, 100(2), 506–510. http://doi.org/10.1073/pnas.0236032100\n",
        "\n",
        "Thul, R., & Falcke, M. (2004). Release Currents of IP3 Receptor Channel Clusters and Concentration Profiles. Biophysical Journal, 86(5), 2660–2673. http://doi.org/10.1016/S0006-3495(04)74322-2\n",
        "\n",
        "Shuai, J., Pearson, J. E., Foskett, J. K., Mak, D.-O. D., & Parker, I. (2007). A Kinetic Model of Single and Clustered IP3 Receptors in the Absence of Ca2+ Feedback. Biophysical Journal, 93(4), 1151–1162. http://doi.org/10.1529/biophysj.107.108795\n",
        "* developed 9 state 4mer model used in subsequent studies (addition of a 9th locked state)\n",
        "\n",
        "Shuai, J., Pearson, J. E., & Parker, I. (2008). Modeling Ca2+ Feedback on a Single Inositol 1,4,5-Trisphosphate Receptor and Its Modulation by Ca2+ Buffers. Biophysical Journal, 95(8), 3738–3752. http://doi.org/10.1529/biophysj.108.137182\n",
        "* extended Shuai et al (2007)\n",
        "\n",
        "Rüdiger, S., Nagaiah, C., Warnecke, G., & Shuai, J. W. (2010). Calcium domains around single and clustered IP3 receptors and their modulation by buffers. Biophysical Journal, 99(1), 3–12. http://doi.org/10.1016/j.bpj.2010.02.059\n",
        "\n",
        "Wieder, N., Fink, R., & von Wegner, F. (2015). Exact Stochastic Simulation of a Calcium Microdomain Reveals the Impact of Ca2+ Fluctuations on IP3R Gating. Biophysical Journal, 108(3), 557–567. http://doi.org/10.1016/j.bpj.2014.11.3458\n",
        "* very clearly written\n",
        "* simple model (no complicated grid), from what I can tell.\n",
        "* comments on reusing random numbers and optimized data structure in ref (34)\n",
        "* uses extention of classical Gillespie algorithm (ref 33)\n",
        "\n",
        "Falcke, M., Moein, M., Tilunaite, A., Thul, R., & Skupin, A. (2018). On the phase space structure of IP3 induced Ca2+ signalling and concepts for predictive modeling. Chaos, 28(4), 1–10. http://doi.org/10.1063/1.5021073\n",
        "\n",
        "Wieder, N., Fink, R. H. A., & von Wegner, F. (2020). Simulation Strategies for Calcium Microdomains and Calcium Noise. Advances in Experimental Medicine and Biology, 1131, 771–797. http://doi.org/10.1007/978-3-030-12457-1_31\n",
        "* Good overview, including pedagogical examples."
      ]
    },
    {
      "cell_type": "markdown",
      "metadata": {
        "id": "5tvX4JOqPuXe",
        "colab_type": "text"
      },
      "source": [
        "# Set up"
      ]
    },
    {
      "cell_type": "code",
      "metadata": {
        "id": "0ApcGcRk6dDA",
        "colab_type": "code",
        "colab": {
          "base_uri": "https://localhost:8080/",
          "height": 34
        },
        "outputId": "6259070b-b875-418c-eea3-2fc07a734672"
      },
      "source": [
        "import numpy as np\n",
        "import pandas as pd\n",
        "import matplotlib.pyplot as plt\n",
        "import scipy.linalg"
      ],
      "execution_count": 221,
      "outputs": [
        {
          "output_type": "execute_result",
          "data": {
            "text/plain": [
              "<function scipy.linalg.decomp.eig>"
            ]
          },
          "metadata": {
            "tags": []
          },
          "execution_count": 221
        }
      ]
    },
    {
      "cell_type": "markdown",
      "metadata": {
        "id": "EzvM0FAjWSC4",
        "colab_type": "text"
      },
      "source": [
        "# Chemical Langevin Equation (CLE)"
      ]
    },
    {
      "cell_type": "markdown",
      "metadata": {
        "id": "giz0Xn_KBmda",
        "colab_type": "text"
      },
      "source": [
        "## Example 1: Two Buffers (weak and strong)\n",
        "* Calcium with two buffers (fast and slow)\n",
        "  * The ratio of $k_{on}$ and $k_{off}$ determines equilibrium constants (strong or weak buffers), but their absolute scale determines if they are quick or slow. This effects the noise, which is temporal.\n",
        "  * Buffer 1\n",
        "$$\n",
        "Ca^{2+} + B_1 \\overset{c_1^+}\\rightarrow CaB_1 \\\\\n",
        "CaB_1 \\overset{c_1^-}\\rightarrow  Ca^{2+} + B_1 \\\\\n",
        "c_1^+ = 1.66*10^{-4} ms^{-1} \\\\ \n",
        "c_1^- = 0.1 ms^{-1} \\\\ \n",
        "[B]_T = [BCa] + [B] = 100 \\mu M \\\\\n",
        "[Ca2+]_{eq} = 0.1 \\mu M \\\\\n",
        "\\implies [BCa]_{eq} = \\frac{[B]_T[Ca2+]_{eq}}{c_1^-/c_1^+ + [Ca2+]_{eq}}\n",
        "$$\n",
        "\n",
        "  * Buffer 2\n",
        "$$\n",
        "Ca^{2+} + B_2 \\overset{c_2^+}\\rightarrow CaB_2 \\\\\n",
        "CaB_2 \\overset{c_2^-}\\rightarrow  Ca^{2+} + B_2 \\\\\n",
        "c_2^+ = 1.66*10^{-5}ms^{-1} \\\\ \n",
        "c_2^- = 0.01*10^{-4}ms^{-1}\n",
        "$$\n",
        "\n",
        "The theoretical grounding of $c_1^+$, etc in terms of rates is explained in Wieder et al. Briefly, for the buffering reaction we have $V = (1 um)^3 = 1 fL$, $k_{on} = 1 \\ (\\text{uM ms})^{-1}$, and $k_{off} = 1 \\ \\text{ms}^{-1}$\n",
        "* $c_{on} = k_{on}/(VN_a) = \n",
        "(\\frac{0.1}{10 ^{-6} \\text{mol L}^{-1} \\text{ms}})\n",
        "(\\frac{1}{10^{-15}\\text{L}})\n",
        "(\\frac{mol}{6.022 \\cdot 10^{23}})\n",
        "=1.66 \\cdot 10^{-4} \\text{ms}^{-1}\n",
        "  $\n",
        "* $c_{off} = k_{off} = 0.1 \\text{ms}^{-1}\n",
        "$"
      ]
    },
    {
      "cell_type": "code",
      "metadata": {
        "id": "1rP4-RuzM8CG",
        "colab_type": "code",
        "colab": {
          "base_uri": "https://localhost:8080/",
          "height": 34
        },
        "outputId": "4345d9bd-5f2c-4918-dda5-064543164629"
      },
      "source": [
        "\n",
        "c1p = 1/6.02214*1e-3\n",
        "c1m = 0.1\n",
        "c2p = 1/6.02214*1e-4\n",
        "c2m = 0.01\n",
        "\n",
        "Bt = 100*60.2214/.1\n",
        "Ca_eq = 60.2214\n",
        "BCa_eq = (Bt*Ca_eq)/(c1m/c1p+Ca_eq)\n",
        "B_eq = Bt - BCa_eq\n",
        "B_eq,BCa_eq\n",
        "\n",
        "X0 = np.array([Ca_eq, B_eq, B_eq, BCa_eq, BCa_eq],dtype=np.float32).round(0)\n",
        "X0"
      ],
      "execution_count": null,
      "outputs": [
        {
          "output_type": "execute_result",
          "data": {
            "text/plain": [
              "array([   60., 54747., 54747.,  5475.,  5475.], dtype=float32)"
            ]
          },
          "metadata": {
            "tags": []
          },
          "execution_count": 9
        }
      ]
    },
    {
      "cell_type": "code",
      "metadata": {
        "id": "A3G9Ru3F4evd",
        "colab_type": "code",
        "colab": {
          "base_uri": "https://localhost:8080/",
          "height": 282
        },
        "outputId": "09343e7f-65e7-487c-88e7-32a4e441da5d"
      },
      "source": [
        "c1p = 1.66e-4\n",
        "c1m = 0.1\n",
        "c2p = 1.66e-5\n",
        "c2m = 0.01\n",
        "\n",
        "#0.1*5476, 1.66e-4*54755*60\n",
        "Bt = 100*60.22/.1\n",
        "Ca_eq = 60.22\n",
        "BCa_eq = (Bt*Ca_eq)/(c1m/c1p+Ca_eq) # c1m/c1p = c2m/c2p so equilibrium for buffers 1 and 2 the same\n",
        "B_eq = Bt - BCa_eq\n",
        "X0 = np.array([Ca_eq, B_eq, B_eq, BCa_eq, BCa_eq],dtype=np.float32).round(0) # state vector\n",
        "\n",
        "#X0 = np.array([60, 54755, 54755, 5476, 5476],dtype=np.float32) \n",
        "V = np.array([[-1,-1,0,+1,0],\n",
        "              [+1,+1,0,-1,0],\n",
        "              [-1,0,-1,0,1],\n",
        "              [1,0,1,0,-1],\n",
        "              ])\n",
        "\n",
        "Vsize = V.size\n",
        "I,J = V.shape\n",
        "Xt = X0\n",
        "Xsize = X0.size\n",
        "\n",
        "dt = 0.01 # ms\n",
        "Ttotal = 100 # ms\n",
        "Tsteps = np.ceil(Ttotal/dt).astype(int)\n",
        "Xts = np.zeros((Tsteps,Xsize))\n",
        "\n",
        "# for time step\n",
        "for t in range(Tsteps):\n",
        "  dW = np.random.normal(loc=0,scale=np.sqrt(dt),size=Vsize).reshape(I,J)\n",
        "  x1t,x2t,x3t,x4t,x5t = Xt\n",
        "\n",
        "  # model dependent reaction propensity\n",
        "  a1 = c1p*x1t*x2t\n",
        "  a2 = c1m*x4t\n",
        "  a3 = c2p*x1t*x3t\n",
        "  a4 = c2m*x5t\n",
        "  a = np.array([a1,a2,a3,a4])#.reshape(-1,1)\n",
        "\n",
        "  # for i in range(Xsize):\n",
        "  #   v = V[:,i]\n",
        "  #   dw = dW[:,i]\n",
        "  #   dxit = np.dot(v,a)*dt + np.dot(v*np.sqrt(a),dw)\n",
        "  #   Xt[i] += dxit\n",
        "  #   print(dxit)\n",
        "  dXt = (V*a.reshape(-1,1)).sum(0)*dt + (V*np.sqrt(a).reshape(-1,1)*dW).sum(0)\n",
        "  Xt += dXt\n",
        "  Xt[Xt < 0] = 0 # to prevent negative counts of molecules. see pp 778 and ref 41 in Wieder et al\n",
        "  Xts[t,:] = Xt\n",
        "\n",
        "pd.Series(Xts[:,0]).plot()"
      ],
      "execution_count": null,
      "outputs": [
        {
          "output_type": "execute_result",
          "data": {
            "text/plain": [
              "<matplotlib.axes._subplots.AxesSubplot at 0x7f8fef24ac88>"
            ]
          },
          "metadata": {
            "tags": []
          },
          "execution_count": 15
        },
        {
          "output_type": "display_data",
          "data": {
            "image/png": "[encoded data removed]",
            "text/plain": [
              "<Figure size 432x288 with 1 Axes>"
            ]
          },
          "metadata": {
            "tags": [],
            "needs_background": "light"
          }
        }
      ]
    },
    {
      "cell_type": "code",
      "metadata": {
        "id": "SkLBhJzroZsv",
        "colab_type": "code",
        "colab": {
          "base_uri": "https://localhost:8080/",
          "height": 282
        },
        "outputId": "e05d0a33-1fb7-40d0-991d-80e22ca3e7f1"
      },
      "source": [
        "pd.Series(Xts[:,1]+Xts[:,3]).plot() # the total buffer concentration fluctuates"
      ],
      "execution_count": null,
      "outputs": [
        {
          "output_type": "execute_result",
          "data": {
            "text/plain": [
              "<matplotlib.axes._subplots.AxesSubplot at 0x7f8fef71edd8>"
            ]
          },
          "metadata": {
            "tags": []
          },
          "execution_count": 14
        },
        {
          "output_type": "display_data",
          "data": {
            "image/png": "[encoded data removed]",
            "text/plain": [
              "<Figure size 432x288 with 1 Axes>"
            ]
          },
          "metadata": {
            "tags": [],
            "needs_background": "light"
          }
        }
      ]
    },
    {
      "cell_type": "markdown",
      "metadata": {
        "id": "f8Rj9vAD50Hg",
        "colab_type": "text"
      },
      "source": [
        "## Example 2: Buffer and constant diffusion\n",
        "* Buffer (as before) \n",
        "* Diffusion\n",
        "$$\n",
        "Ca^{2+} \\rightarrow \\emptyset \\\\\n",
        "\\emptyset \\rightarrow  Ca^{2+} \\\\ \n",
        "c_D = D_{Ca2+}/(\\delta x)^2 = 0.2 \\ (ms)^{-1}\n",
        "$$\n",
        "  * Where $\\delta x$ is the voxel size length ($V^{1/3}$)\n",
        "  * $D_{Ca2+} = 200 \\ \\mu m^2s^{-1}$"
      ]
    },
    {
      "cell_type": "code",
      "metadata": {
        "id": "FK82ZXUr51yG",
        "colab_type": "code",
        "colab": {}
      },
      "source": [
        "dt = 0.01 # ms\n",
        "Ttotal = 100 # ms\n",
        "Tsteps = np.ceil(Ttotal/dt).astype(int)\n",
        "X0 = np.array([60, 54755, 5476],dtype=np.float32) # state vector\n",
        "V = np.array([[-1,-1,+1],\n",
        "              [+1,+1,-1],\n",
        "              [-1,0,0],\n",
        "              [1,0,0]\n",
        "              ])\n",
        "Vsize = V.size\n",
        "I,J = V.shape\n",
        "Xt = X0.copy()\n",
        "Xsize = X0.size\n",
        "Xts = np.zeros((Tsteps,Xsize))\n",
        "\n",
        "c1p = 1.66e-4\n",
        "c1m = 0.1\n",
        "cd = 0.2\n",
        "\n",
        "a4 = cd*X0[0] # time independent because bath Ca2+ not changing, and taken as [Ca2+]eq\n",
        "\n",
        "# for time step\n",
        "for t in range(Tsteps):\n",
        "  dW = np.random.normal(loc=0,scale=np.sqrt(dt),size=Vsize).reshape(I,J)\n",
        "  x1t,x2t,x3t = Xt\n",
        "\n",
        "  # model dependent reaction propensity\n",
        "  a1 = c1p*x1t*x2t\n",
        "  a2 = c1m*x3t\n",
        "  a3 = cd*x1t\n",
        "  a4 = a4\n",
        "  a = np.array([a1,a2,a3,a4])#.reshape(-1,1)\n",
        "\n",
        "  dXt = (V*a.reshape(-1,1)).sum(0)*dt + (V*np.sqrt(a).reshape(-1,1)*dW).sum(0)\n",
        "  Xt += dXt\n",
        "  Xt[Xt < 0] = 0 # to prevent negative counts of molecules. see pp 778 and ref 41 in Wieder et al\n",
        "  Xts[t,:] = Xt\n"
      ],
      "execution_count": null,
      "outputs": []
    },
    {
      "cell_type": "code",
      "metadata": {
        "id": "2ceLUymY7c9r",
        "colab_type": "code",
        "colab": {
          "base_uri": "https://localhost:8080/",
          "height": 282
        },
        "outputId": "f9e585d3-93de-4a06-92c5-cd0e4bed8e6e"
      },
      "source": [
        "pd.Series(Xts[:,0]).plot()"
      ],
      "execution_count": null,
      "outputs": [
        {
          "output_type": "execute_result",
          "data": {
            "text/plain": [
              "<matplotlib.axes._subplots.AxesSubplot at 0x7f9750c68390>"
            ]
          },
          "metadata": {
            "tags": []
          },
          "execution_count": 96
        },
        {
          "output_type": "display_data",
          "data": {
            "image/png": "[encoded data removed]",
            "text/plain": [
              "<Figure size 432x288 with 1 Axes>"
            ]
          },
          "metadata": {
            "tags": [],
            "needs_background": "light"
          }
        }
      ]
    },
    {
      "cell_type": "code",
      "metadata": {
        "id": "AW418BWh7imX",
        "colab_type": "code",
        "colab": {
          "base_uri": "https://localhost:8080/",
          "height": 283
        },
        "outputId": "0e7ee3e9-5b4b-4893-d809-cbb26fabb1cf"
      },
      "source": [
        "def runningMeanFast(x, N):\n",
        "    return np.convolve(x, np.ones((N,))/N)[(N-1):]\n",
        "\n",
        "N = 4000\n",
        "X0ts_av = runningMeanFast(Xts[:,0],N)\n",
        "pd.Series(X0ts_av[N:-N]).plot()"
      ],
      "execution_count": null,
      "outputs": [
        {
          "output_type": "execute_result",
          "data": {
            "text/plain": [
              "<matplotlib.axes._subplots.AxesSubplot at 0x7f974e0d1828>"
            ]
          },
          "metadata": {
            "tags": []
          },
          "execution_count": 97
        },
        {
          "output_type": "display_data",
          "data": {
            "image/png": "[encoded data removed]",
            "text/plain": [
              "<Figure size 432x288 with 1 Axes>"
            ]
          },
          "metadata": {
            "tags": [],
            "needs_background": "light"
          }
        }
      ]
    },
    {
      "cell_type": "markdown",
      "metadata": {
        "id": "dFq4Ur70E0Eg",
        "colab_type": "text"
      },
      "source": [
        "## Example 3: channel opening/closing with buffer and diffusion\n",
        "This example includes a calcium channel that can open and close.\n",
        "$$[B]_T = [BCa] + [B] = 10 \\mu M \\\\\n",
        "k_+ = 0.5 (\\mu M ms)^{-1} \\\\\n",
        "k_- = 0.25 (ms)^{-1}\n",
        "$$\n"
      ]
    },
    {
      "cell_type": "code",
      "metadata": {
        "id": "Dn2xVXgeE8Ix",
        "colab_type": "code",
        "colab": {
          "base_uri": "https://localhost:8080/",
          "height": 282
        },
        "outputId": "838aed4d-750b-4d3e-b96c-c0f6c98daff5"
      },
      "source": [
        "dt = 0.01 # ms\n",
        "Ttotal = 1000 # ms\n",
        "Tsteps = np.ceil(Ttotal/dt).astype(int)\n",
        "X0 = np.array([60, 5476, 548, 0.5,0.5],dtype=np.float32) # state vector\n",
        "V = np.array([[-1,-1,+1,0,0], \n",
        "              [+1,+1,-1,0,0],\n",
        "              [-1,0,0,0,0],\n",
        "              [1,0,0,0,0],\n",
        "              [0,0,0,-1,+1], # C -> O\n",
        "              [0,0,0,+1,-1], # O -> C\n",
        "              [1,0,0,0,0], # O -> O + Ca2+\n",
        "              ])\n",
        "Vsize = V.size\n",
        "I,J = V.shape\n",
        "Xt = X0.copy()\n",
        "Xsize = X0.size\n",
        "Xts = np.zeros((Tsteps,Xsize))\n",
        "\n",
        "\n",
        "kchp = 0.01 # closed to open (Wieder el al, 2020, pp 790-791: \"macroscopic rate constants for ch channel opening and closing as determined from electrophysiological measurements for instance\")\n",
        "kchm = 1 -  kchp # units?\n",
        "\n",
        "vscale=1\n",
        "c1p = 1.66e-4#/vscale/5 # for kp=0.5 umol/ms instead of 0.1 umol/ms\n",
        "c1m = 0.1#*2.5 # for km 0.25 /ms instead of 0.1 /ms\n",
        "cd = 0.2\n",
        "cchp = kchp\n",
        "cchm = kchm\n",
        "cp = 100 #7.5e-12/(2*1.602e-19)*1e3 # I/(2e) = ~3000 for 1 pA. In literature current is 5-10 pA by Fig 11, p 627 in Foskett, J. K., White, C., Cheung, K.-H., & Mak, D.-O. D. (2007). Inositol Trisphosphate Receptor Ca 2+ Release Channels. Physiological Reviews, 87(2), 593–658. http://doi.org/10.1152/physrev.00035.2006\n",
        "\n",
        "a4 = cd*X0[0] # time independent because bath Ca2+ not changing\n",
        "\n",
        "# for time step\n",
        "for t in range(Tsteps):\n",
        "  dW = np.random.normal(loc=0,scale=np.sqrt(dt),size=Vsize).reshape(I,J)\n",
        "  x1t,x2t,x3t,x4t,x5t = Xt\n",
        "\n",
        "  # open/close channel\n",
        "  #assert np.isclose(x4t+x5t,1) # how???\n",
        "\n",
        "  # model dependent reaction propensity\n",
        "  a1 = c1p*x1t*x2t\n",
        "  a2 = c1m*x3t\n",
        "  a3 = cd*x1t # diffuse away based on local [Ca2+]\n",
        "  a4 = a4 # diffuse in based on bath [Ca2+]\n",
        "  a5 = cchp*x4t # no calcium dependency for activating or inactivating!\n",
        "  a6 = cchm*x5t\n",
        "  a7 = cp*x5t # probability of (constant burst of) calcium release depends on probability of channel being open (where is calcium dependency?)\n",
        "  a = np.array([a1,a2,a3,a4, a5, a6, a7])#.reshape(-1,1)\n",
        "\n",
        "  dXt = (V*a.reshape(-1,1)).sum(0)*dt + (V*np.sqrt(a).reshape(-1,1)*dW).sum(0)\n",
        "  Xt += dXt\n",
        "  Xt[Xt < 0] = 0 # to prevent negative counts of molecules. see pp 778 and ref 41 in Wieder et al\n",
        "  Xt[-2:] /= Xt[-2:].sum() # open and closed probability must sum to 1\n",
        "  Xts[t,:] = Xt\n",
        "\n",
        "pd.Series(Xts[:,0]).plot()"
      ],
      "execution_count": null,
      "outputs": [
        {
          "output_type": "execute_result",
          "data": {
            "text/plain": [
              "<matplotlib.axes._subplots.AxesSubplot at 0x7f8feed562e8>"
            ]
          },
          "metadata": {
            "tags": []
          },
          "execution_count": 37
        },
        {
          "output_type": "display_data",
          "data": {
            "image/png": "[encoded data removed]",
            "text/plain": [
              "<Figure size 432x288 with 1 Axes>"
            ]
          },
          "metadata": {
            "tags": [],
            "needs_background": "light"
          }
        }
      ]
    },
    {
      "cell_type": "code",
      "metadata": {
        "id": "vugefar_oIKL",
        "colab_type": "code",
        "colab": {
          "base_uri": "https://localhost:8080/",
          "height": 282
        },
        "outputId": "70499437-5f63-4f64-b337-85f335d719f8"
      },
      "source": [
        "pd.Series(Xts[:,-1]).plot()"
      ],
      "execution_count": null,
      "outputs": [
        {
          "output_type": "execute_result",
          "data": {
            "text/plain": [
              "<matplotlib.axes._subplots.AxesSubplot at 0x7f8feee5d320>"
            ]
          },
          "metadata": {
            "tags": []
          },
          "execution_count": 36
        },
        {
          "output_type": "display_data",
          "data": {
            "image/png": "[encoded data removed]",
            "text/plain": [
              "<Figure size 432x288 with 1 Axes>"
            ]
          },
          "metadata": {
            "tags": [],
            "needs_background": "light"
          }
        }
      ]
    },
    {
      "cell_type": "code",
      "metadata": {
        "id": "_6jdqpy0f_W8",
        "colab_type": "code",
        "colab": {
          "base_uri": "https://localhost:8080/",
          "height": 34
        },
        "outputId": "3c8b31c3-3dcf-40cd-e73e-3c3d0421c51f"
      },
      "source": [
        "Xts[:,-1].max()"
      ],
      "execution_count": null,
      "outputs": [
        {
          "output_type": "execute_result",
          "data": {
            "text/plain": [
              "1.0"
            ]
          },
          "metadata": {
            "tags": []
          },
          "execution_count": 29
        }
      ]
    },
    {
      "cell_type": "markdown",
      "metadata": {
        "id": "VOP1IovoD_Z1",
        "colab_type": "text"
      },
      "source": [
        "## Limitations\n",
        "Depending on the volume, the copy numbers of the state vector can become negative, which is unphysical. The gaussian approximation to the Poisson distribution breaks down here, and care should be taken for values less than ~100 (e.g. compare the distributions)."
      ]
    },
    {
      "cell_type": "markdown",
      "metadata": {
        "id": "I4FfWL858eKH",
        "colab_type": "text"
      },
      "source": [
        "# Markov Process\n",
        "* Shuai et al (2007) extended previous models of the IP3R tetramer and introduced a 9 state model, which binding sites for IP3 and calcium (calcium dependent activating and inhibiting sites). The state of each 1mer of the 4mer can be described by a Markov Process"
      ]
    },
    {
      "cell_type": "code",
      "metadata": {
        "id": "hWu0RlxX8n8I",
        "colab_type": "code",
        "colab": {}
      },
      "source": [
        "##"
      ],
      "execution_count": null,
      "outputs": []
    },
    {
      "cell_type": "markdown",
      "metadata": {
        "id": "UX7ad0SH8opx",
        "colab_type": "text"
      },
      "source": [
        "## Stochastic Transition Matrix\n",
        "* rows are probability from state row to state col. They sum to 1."
      ]
    },
    {
      "cell_type": "code",
      "metadata": {
        "id": "QBJlMAzE9Juf",
        "colab_type": "code",
        "colab": {
          "base_uri": "https://localhost:8080/",
          "height": 34
        },
        "outputId": "d98dd82d-8a27-4256-c00e-60b08c2252a3"
      },
      "source": [
        "def compute_P(Ca=0.05,IP3=10,dt=50e-6):\n",
        "\n",
        "  \n",
        "  a0 = 540\n",
        "  b0 = 80\n",
        "  a1 = 60\n",
        "  a2 = 0.04\n",
        "  a3 = 5\n",
        "  a4 = 0.5\n",
        "  a5 = 30\n",
        "  a = np.array([a1,a2,a3,a4,a5])\n",
        "  k1 = 0.0036 # 3.6 nM Kd for IP3\n",
        "  k2 = 16\n",
        "  k3 = 0.8\n",
        "  k4 = 0.072\n",
        "  k5 = 0.8\n",
        "  K = np.array([k1,k2,k3,k4,k5])\n",
        "  b1,b2,b3,b4,b5 = a*K\n",
        "\n",
        "  P = np.array([\n",
        "                [0,b0,0,0,0,0,0,0,0], # Active\n",
        "                [a0,0,b5,b1,0,a2*Ca,0,0,0], # 110 IP3 Ca_a\n",
        "                [0,a5*Ca,0,0,b1,0,a2*Ca,0,0], #100 IP3\n",
        "                [0,a1*IP3,0,0,b5,0,0,a4*Ca,0], # 010 Ca_a\n",
        "                [0,0,a1*IP3,a5*Ca,0,0,0,0,a4*Ca], # 000\n",
        "                [0,b2,0,0,0,0,b5,b3,0], #111 IP3 Ca_a Ca_i\n",
        "                [0,0,b2,0,0,a4*Ca,0,0,b3], # 101 IP3 Ca_i\n",
        "                [0,0,0,b4,0,a3*IP3,0,0,b5], # 011 Ca_a Ca_i\n",
        "                [0,0,0,0,b4,0,a3*IP3,a5*Ca,0], # 001 Ca_i\n",
        "                ])\n",
        "  dt=50e-6 # 10 us 1.6ms max step size, otherwise prob too big\n",
        "  P *= dt\n",
        "  P[np.diag_indices_from(P)] = 1 - P.sum(axis=1) # row sums. stationary probability\n",
        "\n",
        "  assert np.allclose(np.ones_like(P.sum(1)), P.sum(1))\n",
        "  assert np.alltrue(P<1)\n",
        "  return(P)\n",
        "P = compute_P(Ca=0.05,IP3=10,dt=50e-6)\n",
        "\n",
        "P[0]"
      ],
      "execution_count": null,
      "outputs": [
        {
          "output_type": "execute_result",
          "data": {
            "text/plain": [
              "array([0.996, 0.004, 0.   , 0.   , 0.   , 0.   , 0.   , 0.   , 0.   ])"
            ]
          },
          "metadata": {
            "tags": []
          },
          "execution_count": 93
        }
      ]
    },
    {
      "cell_type": "code",
      "metadata": {
        "id": "TUm_k8EzW5fm",
        "colab_type": "code",
        "colab": {}
      },
      "source": [
        "# with np.printoptions(precision=3, suppress=True, threshold=6):\n",
        "#   for row in P: print(row[:10])"
      ],
      "execution_count": null,
      "outputs": []
    },
    {
      "cell_type": "code",
      "metadata": {
        "id": "a-MGIKLDOFbK",
        "colab_type": "code",
        "colab": {
          "base_uri": "https://localhost:8080/",
          "height": 282
        },
        "outputId": "e725148e-d6e1-4b9b-b721-706752ebb6e1"
      },
      "source": [
        "plt.imshow(np.log(1+P),cmap='gray')"
      ],
      "execution_count": null,
      "outputs": [
        {
          "output_type": "execute_result",
          "data": {
            "text/plain": [
              "<matplotlib.image.AxesImage at 0x7f15316f15f8>"
            ]
          },
          "metadata": {
            "tags": []
          },
          "execution_count": 81
        },
        {
          "output_type": "display_data",
          "data": {
            "image/png": "[encoded data removed]",
            "text/plain": [
              "<Figure size 432x288 with 1 Axes>"
            ]
          },
          "metadata": {
            "tags": [],
            "needs_background": "light"
          }
        }
      ]
    },
    {
      "cell_type": "code",
      "metadata": {
        "id": "Wx7Gw0RL7juH",
        "colab_type": "code",
        "colab": {
          "base_uri": "https://localhost:8080/",
          "height": 68
        },
        "outputId": "489f75f0-9b25-4090-e1b7-d0889160ffdf"
      },
      "source": [
        "P[-1]"
      ],
      "execution_count": null,
      "outputs": [
        {
          "output_type": "execute_result",
          "data": {
            "text/plain": [
              "array([0.000000e+00, 0.000000e+00, 0.000000e+00, 0.000000e+00,\n",
              "       1.800000e-06, 0.000000e+00, 1.250000e-05, 7.500000e-05,\n",
              "       9.999107e-01])"
            ]
          },
          "metadata": {
            "tags": []
          },
          "execution_count": 38
        }
      ]
    },
    {
      "cell_type": "markdown",
      "metadata": {
        "id": "lwyOsN1jDMeL",
        "colab_type": "text"
      },
      "source": [
        "The probabilities depend on the time step. By increasing the time step, we can speed up the time it takes to transition to the next step. There is no sense having even the largest probability for any state be so small, that we are always staying on that state. We would be simulating doing nothing!\n",
        "\n",
        "We can quickly check that the maximum transition probability for every state is not too small.\n",
        "\n"
      ]
    },
    {
      "cell_type": "code",
      "metadata": {
        "id": "ZLTanK5GCnpk",
        "colab_type": "code",
        "colab": {
          "base_uri": "https://localhost:8080/",
          "height": 51
        },
        "outputId": "8eb24030-30ad-4c5c-bb64-1f1b426d00b5"
      },
      "source": [
        "P_nodiag = (P - np.eye(P.shape[0])*np.diag(P))\n",
        "P_nodiag.max(1)"
      ],
      "execution_count": null,
      "outputs": [
        {
          "output_type": "execute_result",
          "data": {
            "text/plain": [
              "array([4.0e-03, 2.7e-02, 7.5e-05, 3.0e-02, 3.0e-02, 1.2e-03, 2.0e-04,\n",
              "       2.5e-03, 2.5e-03])"
            ]
          },
          "metadata": {
            "tags": []
          },
          "execution_count": 94
        }
      ]
    },
    {
      "cell_type": "markdown",
      "metadata": {
        "id": "tctQ-opMD4PA",
        "colab_type": "text"
      },
      "source": [
        "We should choose a simulation length where the smallest transition has some probability of occuring. I.e. the inverse of the smallest non zero probability"
      ]
    },
    {
      "cell_type": "code",
      "metadata": {
        "id": "9AVBq9v7D4nM",
        "colab_type": "code",
        "colab": {
          "base_uri": "https://localhost:8080/",
          "height": 34
        },
        "outputId": "7e566276-2f2f-45c2-d211-442a25257b26"
      },
      "source": [
        "P_nodiag[P_nodiag > 0].min()"
      ],
      "execution_count": null,
      "outputs": [
        {
          "output_type": "execute_result",
          "data": {
            "text/plain": [
              "1.0000000000000001e-07"
            ]
          },
          "metadata": {
            "tags": []
          },
          "execution_count": 95
        }
      ]
    },
    {
      "cell_type": "markdown",
      "metadata": {
        "id": "c3_sJS28Y8I9",
        "colab_type": "text"
      },
      "source": [
        "We have the probabilities. To take a stochastic step, we could draw from a uniform distribution and check the randomly drawn uniform variable against our transition probability... but then we'd have to check if it was between values. Alternatively, we can just treat each row in the transition matrix as the probabilities for a multinomial distrubution and draw a value."
      ]
    },
    {
      "cell_type": "markdown",
      "metadata": {
        "id": "t9UDcUmwzAeB",
        "colab_type": "text"
      },
      "source": [
        "## Stationary state\n",
        "What initial state do we use? We can pick one, or try to use the most likely state. The most likely state will be the stationary state. This can easily be found by computing the eigens of P. The eigenvector corresponding the the eigenvalue of 1 is the stationary state. However, this has a probability for each state, and we want to simulate a trajectory, where each protomer is only in one state at a time (not probabilistically).\n",
        "\n",
        "In this case we can simulate many trajectories, starting from an initial state, drawn from a multinomial distribution with probabilities given by the stationary state.\n",
        "\n",
        "We can also get a sense of how likely a state will be sampled."
      ]
    },
    {
      "cell_type": "code",
      "metadata": {
        "id": "3UIBrdc_wweF",
        "colab_type": "code",
        "colab": {
          "base_uri": "https://localhost:8080/",
          "height": 264
        },
        "outputId": "14dcc454-ba60-4cc3-a0a3-9f2e7e131d41"
      },
      "source": [
        "def comp_stationary_state(P):\n",
        "  # from http://people.duke.edu/~ccc14/sta-663-2016/homework/Homework02_Solutions.html\n",
        "  lam, vec = scipy.linalg.eig(P, left=True, right=False)\n",
        "\n",
        "  idx = np.argmin(np.abs(lam - 1))\n",
        "  w = np.real(vec[:, idx])\n",
        "  w /= w.sum()\n",
        "  assert np.allclose(np.dot(w,P),w) # check stationary\n",
        "  assert np.isclose(w.sum(),1)\n",
        "  return(w)\n",
        "w = comp_stationary_state(P)\n",
        "pd.Series(w).plot.bar()\n",
        "plt.yscale('log')\n"
      ],
      "execution_count": 225,
      "outputs": [
        {
          "output_type": "display_data",
          "data": {
            "image/png": "[encoded data removed]",
            "text/plain": [
              "<Figure size 432x288 with 1 Axes>"
            ]
          },
          "metadata": {
            "tags": [],
            "needs_background": "light"
          }
        }
      ]
    },
    {
      "cell_type": "code",
      "metadata": {
        "id": "Tdt6So6x28Xg",
        "colab_type": "code",
        "colab": {
          "base_uri": "https://localhost:8080/",
          "height": 68
        },
        "outputId": "f5745dbb-5783-4a28-8a9f-d3046c51d30e"
      },
      "source": [
        "w"
      ],
      "execution_count": 223,
      "outputs": [
        {
          "output_type": "execute_result",
          "data": {
            "text/plain": [
              "array([2.83438238e-01, 4.19908500e-02, 6.71904513e-01, 1.51163872e-05,\n",
              "       2.41885944e-04, 1.21923821e-05, 2.21873063e-03, 4.19479719e-06,\n",
              "       1.74279044e-04])"
            ]
          },
          "metadata": {
            "tags": []
          },
          "execution_count": 223
        }
      ]
    },
    {
      "cell_type": "markdown",
      "metadata": {
        "id": "O2c9Uy4S0k5h",
        "colab_type": "text"
      },
      "source": [
        "We can also check at the end of our simulation, how the trajectory compares to the stationary state. Did we take enough steps that our statistics are independent of the initial state.\n",
        "\n",
        "We actually have to compute trajectories, in order to apply our open/closed criteria of \"at least 3 protomers in the activated state\". The stationary state averages over steps and we can't compare the protomers at each step."
      ]
    },
    {
      "cell_type": "code",
      "metadata": {
        "id": "R349dTHP0ATJ",
        "colab_type": "code",
        "colab": {
          "base_uri": "https://localhost:8080/",
          "height": 34
        },
        "outputId": "e44c889d-a438-4b85-b0a0-8287e828c4c0"
      },
      "source": [
        "state = np.argmax(np.random.multinomial(1,pvals=w,size=1))\n",
        "state"
      ],
      "execution_count": 193,
      "outputs": [
        {
          "output_type": "execute_result",
          "data": {
            "text/plain": [
              "0"
            ]
          },
          "metadata": {
            "tags": []
          },
          "execution_count": 193
        }
      ]
    },
    {
      "cell_type": "markdown",
      "metadata": {
        "id": "b1f6QzejFbsd",
        "colab_type": "text"
      },
      "source": [
        "## One protomer"
      ]
    },
    {
      "cell_type": "code",
      "metadata": {
        "id": "RA3oV93u0N3_",
        "colab_type": "code",
        "colab": {
          "base_uri": "https://localhost:8080/",
          "height": 34
        },
        "outputId": "0a29fe03-c7c4-47a4-b4a5-b8f1666c2488"
      },
      "source": [
        "Ttotal = 10 # in s\n",
        "Tsteps = int(Ttotal / dt)\n",
        "np.log10(Tsteps)"
      ],
      "execution_count": null,
      "outputs": [
        {
          "output_type": "execute_result",
          "data": {
            "text/plain": [
              "5.301029995663981"
            ]
          },
          "metadata": {
            "tags": []
          },
          "execution_count": 96
        }
      ]
    },
    {
      "cell_type": "code",
      "metadata": {
        "id": "l1gkR-0zy4m-",
        "colab_type": "code",
        "colab": {
          "base_uri": "https://localhost:8080/",
          "height": 51
        },
        "outputId": "427dfd75-9bb7-493d-9682-a509f8ffc071"
      },
      "source": [
        "%%time\n",
        "state=-1\n",
        "Tsteps = int(10**5.5)\n",
        "states = np.zeros(Tsteps)\n",
        "for _ in range(Tsteps):\n",
        "  step = np.random.multinomial(1,pvals=P[state],size=1)\n",
        "  state = np.argmax(step)\n",
        "  states[_] = state\n"
      ],
      "execution_count": null,
      "outputs": [
        {
          "output_type": "stream",
          "text": [
            "CPU times: user 5.5 s, sys: 1.97 ms, total: 5.51 s\n",
            "Wall time: 5.5 s\n"
          ],
          "name": "stdout"
        }
      ]
    },
    {
      "cell_type": "code",
      "metadata": {
        "id": "FCBkcfEPzynN",
        "colab_type": "code",
        "colab": {
          "base_uri": "https://localhost:8080/",
          "height": 136
        },
        "outputId": "8d879d25-b78f-4227-fddf-778d2faf3199"
      },
      "source": [
        "pd.Series(states).value_counts()"
      ],
      "execution_count": null,
      "outputs": [
        {
          "output_type": "execute_result",
          "data": {
            "text/plain": [
              "2.0    210345\n",
              "0.0     64932\n",
              "6.0     29904\n",
              "1.0      9910\n",
              "8.0      1053\n",
              "4.0        83\n",
              "dtype: int64"
            ]
          },
          "metadata": {
            "tags": []
          },
          "execution_count": 98
        }
      ]
    },
    {
      "cell_type": "markdown",
      "metadata": {
        "id": "ov-2U3XiFeG2",
        "colab_type": "text"
      },
      "source": [
        "## Tetramer"
      ]
    },
    {
      "cell_type": "markdown",
      "metadata": {
        "id": "pKrliDu61DwJ",
        "colab_type": "text"
      },
      "source": [
        "The loop is not parallelizable, since the next state depends on the previous state. However, we can precompute the steps, since they only depend on the state. Then we can just look them up and apply them for a certain path. \n",
        "\n",
        "Here we compute a possible transition for every state in every step for the 4mers (over compute), and then we loop through and use the step that we end up having."
      ]
    },
    {
      "cell_type": "code",
      "metadata": {
        "id": "2irrHMSi9LdM",
        "colab_type": "code",
        "colab": {
          "base_uri": "https://localhost:8080/",
          "height": 34
        },
        "outputId": "3eb66595-3f2a-4817-ad44-ff85512dccfd"
      },
      "source": [
        "Ttotal = 500 # 500s\n",
        "Tsteps = int(Ttotal / dt)\n",
        "np.log10(Tsteps)"
      ],
      "execution_count": null,
      "outputs": [
        {
          "output_type": "execute_result",
          "data": {
            "text/plain": [
              "7.0"
            ]
          },
          "metadata": {
            "tags": []
          },
          "execution_count": 99
        }
      ]
    },
    {
      "cell_type": "code",
      "metadata": {
        "id": "AaRGxejr1kY4",
        "colab_type": "code",
        "colab": {
          "base_uri": "https://localhost:8080/",
          "height": 51
        },
        "outputId": "1c355390-3226-4efd-fff8-f40ab42438c9"
      },
      "source": [
        "%%time\n",
        "def precompute_state_transitions(P,Tsteps):\n",
        "  state_transitions = np.empty((Tsteps,4, P.shape[0]), dtype=np.int16)\n",
        "  for state in range(P.shape[0]):\n",
        "    state_transitions[:,:,state] = np.argmax(np.random.multinomial(1,pvals=P[state],size=4*Tsteps),axis=1).reshape(Tsteps,4)\n",
        "  return(state_transitions)\n",
        "state_transitions = precompute_state_transitions(P,Tsteps)"
      ],
      "execution_count": null,
      "outputs": [
        {
          "output_type": "stream",
          "text": [
            "CPU times: user 1min 5s, sys: 234 ms, total: 1min 5s\n",
            "Wall time: 1min 5s\n"
          ],
          "name": "stdout"
        }
      ]
    },
    {
      "cell_type": "code",
      "metadata": {
        "id": "JGOu4Kaj1UaC",
        "colab_type": "code",
        "colab": {
          "base_uri": "https://localhost:8080/",
          "height": 51
        },
        "outputId": "a2967135-3dde-4947-823f-9bdfc321ecb0"
      },
      "source": [
        "%%time\n",
        "def simulate_markov_process(state_transitions,initial_state):\n",
        "  Tsteps = state_transitions.shape[0]\n",
        "  states = np.zeros((Tsteps,4))\n",
        "  state_4mer = initial_state \n",
        "  idx_4mer = np.array([0,1,2,3])\n",
        "  for t in range(Tsteps):\n",
        "    state_4mer = state_transitions[t,idx_4mer,state_4mer]\n",
        "    states[t] = state_4mer\n",
        "  return(states)\n",
        "\n",
        "initial_state = np.array([-1,-1,-1,-1])# all 4mer Ca_i\n",
        "states = simulate_markov_process(state_transitions,initial_state)"
      ],
      "execution_count": null,
      "outputs": [
        {
          "output_type": "stream",
          "text": [
            "CPU times: user 22.6 s, sys: 1.8 ms, total: 22.6 s\n",
            "Wall time: 22.6 s\n"
          ],
          "name": "stdout"
        }
      ]
    },
    {
      "cell_type": "code",
      "metadata": {
        "id": "Ry_hqWz4E3j3",
        "colab_type": "code",
        "colab": {
          "base_uri": "https://localhost:8080/",
          "height": 119
        },
        "outputId": "bc25ba46-9ece-49ab-87a7-5d35e85bbc8b"
      },
      "source": [
        "act_states = (states == 0).sum(1)\n",
        "pd.Series(act_states).value_counts()"
      ],
      "execution_count": null,
      "outputs": [
        {
          "output_type": "execute_result",
          "data": {
            "text/plain": [
              "1    4075038\n",
              "0    2658382\n",
              "2    2548944\n",
              "3     659848\n",
              "4      57788\n",
              "dtype: int64"
            ]
          },
          "metadata": {
            "tags": []
          },
          "execution_count": 105
        }
      ]
    },
    {
      "cell_type": "code",
      "metadata": {
        "id": "lVgf3Ns992Bl",
        "colab_type": "code",
        "colab": {
          "base_uri": "https://localhost:8080/",
          "height": 34
        },
        "outputId": "afeb78b0-86ba-4bc6-95ec-560534ece6c5"
      },
      "source": [
        "open_states = states.sum(1) <= 1\n",
        "open_states.mean()"
      ],
      "execution_count": null,
      "outputs": [
        {
          "output_type": "execute_result",
          "data": {
            "text/plain": [
              "0.0090835"
            ]
          },
          "metadata": {
            "tags": []
          },
          "execution_count": 106
        }
      ]
    },
    {
      "cell_type": "code",
      "metadata": {
        "id": "GOM7Ezcw-qyR",
        "colab_type": "code",
        "colab": {
          "base_uri": "https://localhost:8080/",
          "height": 295
        },
        "outputId": "af5c9994-cef9-4e85-d795-bb78a50a3ee5"
      },
      "source": [
        "pd.Series(open_states.astype(int)).plot() # dt = 0.0016, Tsteps=6.25e6\n",
        "dt, Tsteps\n"
      ],
      "execution_count": null,
      "outputs": [
        {
          "output_type": "execute_result",
          "data": {
            "text/plain": [
              "(5e-05, 10000000)"
            ]
          },
          "metadata": {
            "tags": []
          },
          "execution_count": 107
        },
        {
          "output_type": "display_data",
          "data": {
            "image/png": "[encoded data removed]",
            "text/plain": [
              "<Figure size 432x288 with 1 Axes>"
            ]
          },
          "metadata": {
            "tags": [],
            "needs_background": "light"
          }
        }
      ]
    },
    {
      "cell_type": "markdown",
      "metadata": {
        "id": "kccU48EJF-j_",
        "colab_type": "text"
      },
      "source": [
        "## Biphasic calcium dependency\n",
        "* The Po is biphasically dependent on [Ca2+]. Let's try to reproduce this. The transition matrix needs to be recomputed for every different [Ca2+]\n",
        "\n",
        "* TODO: write out states and experiment with different definitions of (open channel) and see if still get biphasic behaviour)"
      ]
    },
    {
      "cell_type": "code",
      "metadata": {
        "id": "qlarM6B_GPyS",
        "colab_type": "code",
        "colab": {
          "base_uri": "https://localhost:8080/",
          "height": 34
        },
        "outputId": "d4068c6f-ce7d-4d53-9257-0b6ee8f76bba"
      },
      "source": [
        "Ttotal = 100 # seconds\n",
        "Tsteps = int(Ttotal / dt)\n",
        "np.log10(Tsteps), Tsteps"
      ],
      "execution_count": 330,
      "outputs": [
        {
          "output_type": "execute_result",
          "data": {
            "text/plain": [
              "(6.301029995663981, 2000000)"
            ]
          },
          "metadata": {
            "tags": []
          },
          "execution_count": 330
        }
      ]
    },
    {
      "cell_type": "code",
      "metadata": {
        "id": "30gaBkq2Jcgc",
        "colab_type": "code",
        "colab": {
          "base_uri": "https://localhost:8080/",
          "height": 51
        },
        "outputId": "b41f73ca-3183-410e-8289-fa3af813ae37"
      },
      "source": [
        "%%time\n",
        "ca = [0.001,0.01,0.025,0.05] + np.arange(0.1,1,0.1).tolist() + np.arange(1,10,1).tolist() + np.arange(10,50,5).tolist() + np.arange(50,100,10).tolist() + np.arange(100,1000,100).tolist() #,0.1,0.2,0.3,0.4,0.5,0.1,10,20,35,40,45] 0 for 50\n",
        "ca = np.array(ca)\n",
        "open_probs = np.empty_like(ca)\n",
        "initial_state = 0*np.array([-1,-1,-1,-1])# all 4mer Ca_i\n",
        "states = np.empty((ca.size,Tsteps,4))\n",
        "stationary_states = np.empty((ca.size,P.shape[0]))\n",
        "\n",
        "for i in range(ca.size): # parralelizable loop (ca conditions don't depend on each other)\n",
        "  P = compute_P(Ca=ca[i],IP3=10,dt=50e-6)\n",
        "  stationary_states[i] = comp_stationary_state(P)\n",
        "  state_transitions = precompute_state_transitions(P,Tsteps)\n",
        "  initial_state = np.argmax(np.random.multinomial(1,pvals=w,size=4),1)\n",
        "  states[i] = simulate_markov_process(state_transitions,initial_state)\n",
        "  open_states = (states[i] == 0).sum(1) >= 3 # TODO: experiment with this definition\n",
        "  open_probs[i] = open_states.mean()"
      ],
      "execution_count": 331,
      "outputs": [
        {
          "output_type": "stream",
          "text": [
            "CPU times: user 11min 4s, sys: 467 ms, total: 11min 4s\n",
            "Wall time: 11min 4s\n"
          ],
          "name": "stdout"
        }
      ]
    },
    {
      "cell_type": "code",
      "metadata": {
        "id": "PutTmVXP1VD8",
        "colab_type": "code",
        "colab": {
          "base_uri": "https://localhost:8080/",
          "height": 272
        },
        "outputId": "6b356bf2-ce60-4228-a0b6-584a42483f44"
      },
      "source": [
        "pd.Series(states[1].flatten()).value_counts(normalize=True).sort_index().plot.bar()\n",
        "plt.yscale('log')"
      ],
      "execution_count": 315,
      "outputs": [
        {
          "output_type": "display_data",
          "data": {
            "image/png": "[encoded data removed]",
            "text/plain": [
              "<Figure size 432x288 with 1 Axes>"
            ]
          },
          "metadata": {
            "tags": [],
            "needs_background": "light"
          }
        }
      ]
    },
    {
      "cell_type": "code",
      "metadata": {
        "id": "dwRCuEgu4RJF",
        "colab_type": "code",
        "colab": {
          "base_uri": "https://localhost:8080/",
          "height": 262
        },
        "outputId": "30211245-64b7-43bf-e336-cb504636e447"
      },
      "source": [
        "pd.Series(stationary_states[1]).plot.bar()\n",
        "plt.yscale('log')"
      ],
      "execution_count": 316,
      "outputs": [
        {
          "output_type": "display_data",
          "data": {
            "image/png": "[encoded data removed]",
            "text/plain": [
              "<Figure size 432x288 with 1 Axes>"
            ]
          },
          "metadata": {
            "tags": [],
            "needs_background": "light"
          }
        }
      ]
    },
    {
      "cell_type": "markdown",
      "metadata": {
        "id": "iAkfYkzR3f__",
        "colab_type": "text"
      },
      "source": [
        "This matches very with the stationary state. If we notice that some states are missing in the Markov process, but are present in the stationary state, this means we have not sampled enough to visit these other rare states."
      ]
    },
    {
      "cell_type": "code",
      "metadata": {
        "id": "owre7O0WKklC",
        "colab_type": "code",
        "colab": {
          "base_uri": "https://localhost:8080/",
          "height": 316
        },
        "outputId": "7b3655eb-d62b-4b86-cc86-56bf63236a3c"
      },
      "source": [
        "sr = pd.Series(open_probs)\n",
        "sr.index = ca\n",
        "ax = sr.plot.line()\n",
        "ax.set_xlabel('[Ca2+]')\n",
        "ax.set_ylabel('Po')\n",
        "plt.xscale('log')\n",
        "ax.set_title('Biphasic Open Probability')"
      ],
      "execution_count": 317,
      "outputs": [
        {
          "output_type": "execute_result",
          "data": {
            "text/plain": [
              "Text(0.5, 1.0, 'Biphasic Open Probability')"
            ]
          },
          "metadata": {
            "tags": []
          },
          "execution_count": 317
        },
        {
          "output_type": "display_data",
          "data": {
            "image/png": "[encoded data removed]",
            "text/plain": [
              "<Figure size 432x288 with 1 Axes>"
            ]
          },
          "metadata": {
            "tags": [],
            "needs_background": "light"
          }
        }
      ]
    },
    {
      "cell_type": "markdown",
      "metadata": {
        "id": "EKT_WBOIcqki",
        "colab_type": "text"
      },
      "source": [
        "This Markov Process model recapitulates the experimentally observed biphasic bell shaped open probability. This verified the model. Nature may be more interesting than this simple model. \n",
        "\n",
        "If another model predicts new (unique?) bahaviour, and there is a way to experimentally measure the predictions from this model, then we can learn about the microscopic behaviour through the macroscopic observables. This is biophysics!\n",
        "\n",
        "For instance, we can define an open state as a 4mer with 2 or more activated protomers (instead of 3)."
      ]
    },
    {
      "cell_type": "code",
      "metadata": {
        "id": "W7Z3TvdBM_oP",
        "colab_type": "code",
        "colab": {}
      },
      "source": [
        "timestr = '202007230_202400'\n",
        "np.save(timestr+'states.npy',states)\n",
        "np.save(timestr+'202007230_2024-ca.npy',ca)"
      ],
      "execution_count": 336,
      "outputs": []
    },
    {
      "cell_type": "code",
      "metadata": {
        "id": "6ZubtSLl66Ci",
        "colab_type": "code",
        "colab": {
          "base_uri": "https://localhost:8080/",
          "height": 469
        },
        "outputId": "56f41e01-13f8-4389-b778-0b4cd22baf1e"
      },
      "source": [
        "for state_for_open in [1,2,3,4]:\n",
        "  for i in range(states.shape[0]):\n",
        "    open_states = (states[i] == 0).sum(1) >= state_for_open\n",
        "    open_probs[i] = open_states.mean()\n",
        "\n",
        "  sr = pd.Series(open_probs)\n",
        "  sr.index = ca\n",
        "  ax = sr.plot(legend=True, label=state_for_open)\n",
        "  ax.set_xlabel('[Ca2+]')\n",
        "  ax.set_ylabel('Po')\n",
        "  plt.xscale('log')\n",
        "  ax.set_title('Biphasic Open Probability?')\n"
      ],
      "execution_count": 339,
      "outputs": [
        {
          "output_type": "execute_result",
          "data": {
            "text/plain": [
              "array([0.000000e+00, 0.000000e+00, 2.250000e-04, 7.459500e-03,\n",
              "       2.501900e-02, 9.974250e-02, 1.665910e-01, 2.221610e-01,\n",
              "       2.570290e-01, 3.186655e-01, 3.126935e-01, 3.514680e-01,\n",
              "       3.350690e-01, 3.789175e-01, 3.807095e-01, 4.685555e-01,\n",
              "       4.476710e-01, 4.411975e-01, 4.498565e-01, 3.980590e-01,\n",
              "       4.260250e-01, 4.381880e-01, 4.160950e-01, 4.116210e-01,\n",
              "       2.955700e-01, 2.302110e-01, 2.152890e-01, 2.198550e-01,\n",
              "       1.729785e-01, 1.492615e-01, 1.418955e-01, 9.316950e-02,\n",
              "       5.834250e-02, 1.094525e-01, 6.563350e-02, 4.947250e-02,\n",
              "       7.650000e-03, 3.475000e-03])"
            ]
          },
          "metadata": {
            "tags": []
          },
          "execution_count": 339
        },
        {
          "output_type": "display_data",
          "data": {
            "image/png": "[encoded data removed]",
            "text/plain": [
              "<Figure size 432x288 with 1 Axes>"
            ]
          },
          "metadata": {
            "tags": [],
            "needs_background": "light"
          }
        }
      ]
    },
    {
      "cell_type": "markdown",
      "metadata": {
        "id": "vk03IVNI_7U-",
        "colab_type": "text"
      },
      "source": [
        "Here we see that the peak width changes with the number of channels that need to be open to define an open state. To peak width is a measure of the cooperativity of the tetramers."
      ]
    }
  ]
}