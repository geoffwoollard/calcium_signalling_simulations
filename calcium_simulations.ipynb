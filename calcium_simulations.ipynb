{
  "nbformat": 4,
  "nbformat_minor": 0,
  "metadata": {
    "colab": {
      "name": "calcium-simulations.ipynb",
      "provenance": [],
      "collapsed_sections": [],
      "toc_visible": true,
      "machine_shape": "hm",
      "authorship_tag": "ABX9TyNDA+J3bN+uO07JG332UWbE",
      "include_colab_link": true
    },
    "kernelspec": {
      "name": "python3",
      "display_name": "Python 3"
    }
  },
  "cells": [
    {
      "cell_type": "markdown",
      "metadata": {
        "id": "view-in-github",
        "colab_type": "text"
      },
      "source": [
        "<a href=\"https://colab.research.google.com/github/geoffwoollard/calcium_signalling_simulations/blob/master/calcium_simulations.ipynb\" target=\"_parent\"><img src=\"https://colab.research.google.com/assets/colab-badge.svg\" alt=\"Open In Colab\"/></a>"
      ]
    },
    {
      "cell_type": "markdown",
      "metadata": {
        "id": "NvZinGep4i5h",
        "colab_type": "text"
      },
      "source": [
        "# Goal\n",
        "- develop intuition about Ca2+ concentration around  IP3R with simulations "
      ]
    },
    {
      "cell_type": "markdown",
      "metadata": {
        "id": "PkY_gKFU8qFW",
        "colab_type": "text"
      },
      "source": [
        "# Resources\n",
        "\n",
        "De Young, G. W., & Keizer, J. (1992). A single-pool inositol 1,4,5-trisphosphate-receptor-based model for agonist-stimulated oscillations in Ca2+ concentration. Proceedings of the National Academy of Sciences, 89(20), 9895–9899. http://doi.org/10.1073/pnas.89.20.9895\n",
        "* early development of IP3 and calcium (activating and deactivation) binding sites.\n",
        "\n",
        "Schneidman, E., Freedman, B., & Segev, I. (1998). Ion Channel Stochasticity May Be Critical in Determining the Reliability and Precision of Spike Timing. Neural Computation, 10(7), 1679–1703. http://doi.org/10.1162/089976698300017089\n",
        "\n",
        "Shuai, J.-W., & Jung, P. (2002). Stochastic Properties of Ca2+ Release of Inositol 1,4,5-Trisphosphate Receptor Clusters. Biophysical Journal, 83(1), 87–97. http://doi.org/10.1016/S0006-3495(02)75151-5\n",
        "\n",
        "Shuai, J. W., & Jung, P. (2003). Optimal ion channel clustering for intracellular calcium signaling. Proceedings of the National Academy of Sciences, 100(2), 506–510. http://doi.org/10.1073/pnas.0236032100\n",
        "\n",
        "Thul, R., & Falcke, M. (2004). Release Currents of IP3 Receptor Channel Clusters and Concentration Profiles. Biophysical Journal, 86(5), 2660–2673. http://doi.org/10.1016/S0006-3495(04)74322-2\n",
        "\n",
        "Shuai, J., Pearson, J. E., Foskett, J. K., Mak, D.-O. D., & Parker, I. (2007). A Kinetic Model of Single and Clustered IP3 Receptors in the Absence of Ca2+ Feedback. Biophysical Journal, 93(4), 1151–1162. http://doi.org/10.1529/biophysj.107.108795\n",
        "* developed 9 state 4mer model used in subsequent studies (addition of a 9th locked state)\n",
        "\n",
        "Shuai, J., Pearson, J. E., & Parker, I. (2008). Modeling Ca2+ Feedback on a Single Inositol 1,4,5-Trisphosphate Receptor and Its Modulation by Ca2+ Buffers. Biophysical Journal, 95(8), 3738–3752. http://doi.org/10.1529/biophysj.108.137182\n",
        "* extended Shuai et al (2007)\n",
        "\n",
        "Rüdiger, S., Nagaiah, C., Warnecke, G., & Shuai, J. W. (2010). Calcium domains around single and clustered IP3 receptors and their modulation by buffers. Biophysical Journal, 99(1), 3–12. http://doi.org/10.1016/j.bpj.2010.02.059\n",
        "\n",
        "Wieder, N., Fink, R., & von Wegner, F. (2015). Exact Stochastic Simulation of a Calcium Microdomain Reveals the Impact of Ca2+ Fluctuations on IP3R Gating. Biophysical Journal, 108(3), 557–567. http://doi.org/10.1016/j.bpj.2014.11.3458\n",
        "* very clearly written\n",
        "* simple model (no complicated grid), from what I can tell.\n",
        "* comments on reusing random numbers and optimized data structure in ref (34)\n",
        "* uses extention of classical Gillespie algorithm (ref 33)\n",
        "\n",
        "Falcke, M., Moein, M., Tilunaite, A., Thul, R., & Skupin, A. (2018). On the phase space structure of IP3 induced Ca2+ signalling and concepts for predictive modeling. Chaos, 28(4), 1–10. http://doi.org/10.1063/1.5021073\n",
        "\n",
        "Wieder, N., Fink, R. H. A., & von Wegner, F. (2020). Simulation Strategies for Calcium Microdomains and Calcium Noise. Advances in Experimental Medicine and Biology, 1131, 771–797. http://doi.org/10.1007/978-3-030-12457-1_31\n",
        "* Good overview, including pedagogical examples."
      ]
    },
    {
      "cell_type": "markdown",
      "metadata": {
        "id": "5tvX4JOqPuXe",
        "colab_type": "text"
      },
      "source": [
        "# Set up"
      ]
    },
    {
      "cell_type": "code",
      "metadata": {
        "id": "0ApcGcRk6dDA",
        "colab_type": "code",
        "colab": {}
      },
      "source": [
        "import numpy as np\n",
        "import pandas as pd\n",
        "import matplotlib.pyplot as plt\n",
        "import scipy.linalg\n",
        "from scipy.special import comb\n",
        "from numba import jit\n",
        "from sklearn.preprocessing import normalize\n",
        "from scipy.sparse import csr_matrix\n",
        "import seaborn as sns\n"
      ],
      "execution_count": 39,
      "outputs": []
    },
    {
      "cell_type": "code",
      "metadata": {
        "id": "rekPp9896S92",
        "colab_type": "code",
        "colab": {}
      },
      "source": [
        "from google.colab import drive\n",
        "drive.mount('/content/drive')"
      ],
      "execution_count": null,
      "outputs": []
    },
    {
      "cell_type": "markdown",
      "metadata": {
        "id": "EzvM0FAjWSC4",
        "colab_type": "text"
      },
      "source": [
        "# Chemical Langevin Equation (CLE)\n",
        "* implement Ca2+ buffer examples in, Wieder et al, 2020, 31.13 Working Examples, pp. 787-791"
      ]
    },
    {
      "cell_type": "markdown",
      "metadata": {
        "id": "giz0Xn_KBmda",
        "colab_type": "text"
      },
      "source": [
        "## Example 1: Two Buffers (weak and strong)\n",
        "* Calcium with two buffers (fast and slow)\n",
        "  * The ratio of $k_{on}$ and $k_{off}$ determines equilibrium constants (strong or weak buffers), but their absolute scale determines if they are quick or slow. This effects the noise, which is temporal.\n",
        "  * Buffer 1\n",
        "$$\n",
        "Ca^{2+} + B_1 \\overset{c_1^+}\\rightarrow CaB_1 \\\\\n",
        "CaB_1 \\overset{c_1^-}\\rightarrow  Ca^{2+} + B_1 \\\\\n",
        "c_1^+ = 1.66*10^{-4} ms^{-1} \\\\ \n",
        "c_1^- = 0.1 ms^{-1} \\\\ \n",
        "[B]_T = [BCa] + [B] = 100 \\mu M \\\\\n",
        "[Ca2+]_{eq} = 0.1 \\mu M \\\\\n",
        "\\implies [BCa]_{eq} = \\frac{[B]_T[Ca2+]_{eq}}{c_1^-/c_1^+ + [Ca2+]_{eq}}\n",
        "$$\n",
        "\n",
        "  * Buffer 2\n",
        "$$\n",
        "Ca^{2+} + B_2 \\overset{c_2^+}\\rightarrow CaB_2 \\\\\n",
        "CaB_2 \\overset{c_2^-}\\rightarrow  Ca^{2+} + B_2 \\\\\n",
        "c_2^+ = 1.66*10^{-5}ms^{-1} \\\\ \n",
        "c_2^- = 0.01*10^{-4}ms^{-1}\n",
        "$$\n",
        "\n",
        "The theoretical grounding of $c_1^+$, etc in terms of rates is explained in Wieder et al. Briefly, for the buffering reaction we have $V = (1 um)^3 = 1 fL$, $k_{on} = 1 \\ (\\text{uM ms})^{-1}$, and $k_{off} = 1 \\ \\text{ms}^{-1}$\n",
        "* $c_{on} = k_{on}/(VN_a) = \n",
        "(\\frac{0.1}{10 ^{-6} \\text{mol L}^{-1} \\text{ms}})\n",
        "(\\frac{1}{10^{-15}\\text{L}})\n",
        "(\\frac{mol}{6.022 \\cdot 10^{23}})\n",
        "=1.66 \\cdot 10^{-4} \\text{ms}^{-1}\n",
        "  $\n",
        "* $c_{off} = k_{off} = 0.1 \\text{ms}^{-1}\n",
        "$"
      ]
    },
    {
      "cell_type": "code",
      "metadata": {
        "id": "1rP4-RuzM8CG",
        "colab_type": "code",
        "colab": {
          "base_uri": "https://localhost:8080/",
          "height": 34
        },
        "outputId": "4345d9bd-5f2c-4918-dda5-064543164629"
      },
      "source": [
        "\n",
        "c1p = 1/6.02214*1e-3\n",
        "c1m = 0.1\n",
        "c2p = 1/6.02214*1e-4\n",
        "c2m = 0.01\n",
        "\n",
        "Bt = 100*60.2214/.1\n",
        "Ca_eq = 60.2214\n",
        "BCa_eq = (Bt*Ca_eq)/(c1m/c1p+Ca_eq)\n",
        "B_eq = Bt - BCa_eq\n",
        "B_eq,BCa_eq\n",
        "\n",
        "X0 = np.array([Ca_eq, B_eq, B_eq, BCa_eq, BCa_eq],dtype=np.float32).round(0)\n",
        "X0"
      ],
      "execution_count": null,
      "outputs": [
        {
          "output_type": "execute_result",
          "data": {
            "text/plain": [
              "array([   60., 54747., 54747.,  5475.,  5475.], dtype=float32)"
            ]
          },
          "metadata": {
            "tags": []
          },
          "execution_count": 9
        }
      ]
    },
    {
      "cell_type": "code",
      "metadata": {
        "id": "A3G9Ru3F4evd",
        "colab_type": "code",
        "colab": {
          "base_uri": "https://localhost:8080/",
          "height": 282
        },
        "outputId": "09343e7f-65e7-487c-88e7-32a4e441da5d"
      },
      "source": [
        "c1p = 1.66e-4\n",
        "c1m = 0.1\n",
        "c2p = 1.66e-5\n",
        "c2m = 0.01\n",
        "\n",
        "#0.1*5476, 1.66e-4*54755*60\n",
        "Bt = 100*60.22/.1\n",
        "Ca_eq = 60.22\n",
        "BCa_eq = (Bt*Ca_eq)/(c1m/c1p+Ca_eq) # c1m/c1p = c2m/c2p so equilibrium for buffers 1 and 2 the same\n",
        "B_eq = Bt - BCa_eq\n",
        "X0 = np.array([Ca_eq, B_eq, B_eq, BCa_eq, BCa_eq],dtype=np.float32).round(0) # state vector\n",
        "\n",
        "#X0 = np.array([60, 54755, 54755, 5476, 5476],dtype=np.float32) \n",
        "V = np.array([[-1,-1,0,+1,0],\n",
        "              [+1,+1,0,-1,0],\n",
        "              [-1,0,-1,0,1],\n",
        "              [1,0,1,0,-1],\n",
        "              ])\n",
        "\n",
        "Vsize = V.size\n",
        "I,J = V.shape\n",
        "Xt = X0\n",
        "Xsize = X0.size\n",
        "\n",
        "dt = 0.01 # ms\n",
        "Ttotal = 100 # ms\n",
        "Tsteps = np.ceil(Ttotal/dt).astype(int)\n",
        "Xts = np.zeros((Tsteps,Xsize))\n",
        "\n",
        "# for time step\n",
        "for t in range(Tsteps):\n",
        "  dW = np.random.normal(loc=0,scale=np.sqrt(dt),size=Vsize).reshape(I,J)\n",
        "  x1t,x2t,x3t,x4t,x5t = Xt\n",
        "\n",
        "  # model dependent reaction propensity\n",
        "  a1 = c1p*x1t*x2t\n",
        "  a2 = c1m*x4t\n",
        "  a3 = c2p*x1t*x3t\n",
        "  a4 = c2m*x5t\n",
        "  a = np.array([a1,a2,a3,a4])#.reshape(-1,1)\n",
        "\n",
        "  # for i in range(Xsize):\n",
        "  #   v = V[:,i]\n",
        "  #   dw = dW[:,i]\n",
        "  #   dxit = np.dot(v,a)*dt + np.dot(v*np.sqrt(a),dw)\n",
        "  #   Xt[i] += dxit\n",
        "  #   print(dxit)\n",
        "  dXt = (V*a.reshape(-1,1)).sum(0)*dt + (V*np.sqrt(a).reshape(-1,1)*dW).sum(0)\n",
        "  Xt += dXt\n",
        "  Xt[Xt < 0] = 0 # to prevent negative counts of molecules. see pp 778 and ref 41 in Wieder et al\n",
        "  Xts[t,:] = Xt\n",
        "\n",
        "pd.Series(Xts[:,0]).plot()"
      ],
      "execution_count": null,
      "outputs": [
        {
          "output_type": "execute_result",
          "data": {
            "text/plain": [
              "<matplotlib.axes._subplots.AxesSubplot at 0x7f8fef24ac88>"
            ]
          },
          "metadata": {
            "tags": []
          },
          "execution_count": 15
        },
        {
          "output_type": "display_data",
          "data": {
            "image/png": "[encoded data removed]",
            "text/plain": [
              "<Figure size 432x288 with 1 Axes>"
            ]
          },
          "metadata": {
            "tags": [],
            "needs_background": "light"
          }
        }
      ]
    },
    {
      "cell_type": "code",
      "metadata": {
        "id": "SkLBhJzroZsv",
        "colab_type": "code",
        "colab": {
          "base_uri": "https://localhost:8080/",
          "height": 282
        },
        "outputId": "e05d0a33-1fb7-40d0-991d-80e22ca3e7f1"
      },
      "source": [
        "pd.Series(Xts[:,1]+Xts[:,3]).plot() # the total buffer concentration fluctuates"
      ],
      "execution_count": null,
      "outputs": [
        {
          "output_type": "execute_result",
          "data": {
            "text/plain": [
              "<matplotlib.axes._subplots.AxesSubplot at 0x7f8fef71edd8>"
            ]
          },
          "metadata": {
            "tags": []
          },
          "execution_count": 14
        },
        {
          "output_type": "display_data",
          "data": {
            "image/png": "[encoded data removed]",
            "text/plain": [
              "<Figure size 432x288 with 1 Axes>"
            ]
          },
          "metadata": {
            "tags": [],
            "needs_background": "light"
          }
        }
      ]
    },
    {
      "cell_type": "markdown",
      "metadata": {
        "id": "f8Rj9vAD50Hg",
        "colab_type": "text"
      },
      "source": [
        "## Example 2: Buffer and constant diffusion\n",
        "* Buffer (as before) \n",
        "* Diffusion\n",
        "$$\n",
        "Ca^{2+} \\rightarrow \\emptyset \\\\\n",
        "\\emptyset \\rightarrow  Ca^{2+} \\\\ \n",
        "c_D = D_{Ca2+}/(\\delta x)^2 = 0.2 \\ (ms)^{-1}\n",
        "$$\n",
        "  * Where $\\delta x$ is the voxel size length ($V^{1/3}$)\n",
        "  * $D_{Ca2+} = 200 \\ \\mu m^2s^{-1}$"
      ]
    },
    {
      "cell_type": "code",
      "metadata": {
        "id": "FK82ZXUr51yG",
        "colab_type": "code",
        "colab": {}
      },
      "source": [
        "dt = 0.01 # ms\n",
        "Ttotal = 100 # ms\n",
        "Tsteps = np.ceil(Ttotal/dt).astype(int)\n",
        "X0 = np.array([60, 54755, 5476],dtype=np.float32) # state vector\n",
        "V = np.array([[-1,-1,+1],\n",
        "              [+1,+1,-1],\n",
        "              [-1,0,0],\n",
        "              [1,0,0]\n",
        "              ])\n",
        "Vsize = V.size\n",
        "I,J = V.shape\n",
        "Xt = X0.copy()\n",
        "Xsize = X0.size\n",
        "Xts = np.zeros((Tsteps,Xsize))\n",
        "\n",
        "c1p = 1.66e-4\n",
        "c1m = 0.1\n",
        "cd = 0.2\n",
        "\n",
        "a4 = cd*X0[0] # time independent because bath Ca2+ not changing, and taken as [Ca2+]eq\n",
        "\n",
        "# for time step\n",
        "for t in range(Tsteps):\n",
        "  dW = np.random.normal(loc=0,scale=np.sqrt(dt),size=Vsize).reshape(I,J)\n",
        "  x1t,x2t,x3t = Xt\n",
        "\n",
        "  # model dependent reaction propensity\n",
        "  a1 = c1p*x1t*x2t\n",
        "  a2 = c1m*x3t\n",
        "  a3 = cd*x1t\n",
        "  a4 = a4\n",
        "  a = np.array([a1,a2,a3,a4])#.reshape(-1,1)\n",
        "\n",
        "  dXt = (V*a.reshape(-1,1)).sum(0)*dt + (V*np.sqrt(a).reshape(-1,1)*dW).sum(0)\n",
        "  Xt += dXt\n",
        "  Xt[Xt < 0] = 0 # to prevent negative counts of molecules. see pp 778 and ref 41 in Wieder et al\n",
        "  Xts[t,:] = Xt\n"
      ],
      "execution_count": null,
      "outputs": []
    },
    {
      "cell_type": "code",
      "metadata": {
        "id": "2ceLUymY7c9r",
        "colab_type": "code",
        "colab": {
          "base_uri": "https://localhost:8080/",
          "height": 282
        },
        "outputId": "f9e585d3-93de-4a06-92c5-cd0e4bed8e6e"
      },
      "source": [
        "pd.Series(Xts[:,0]).plot()"
      ],
      "execution_count": null,
      "outputs": [
        {
          "output_type": "execute_result",
          "data": {
            "text/plain": [
              "<matplotlib.axes._subplots.AxesSubplot at 0x7f9750c68390>"
            ]
          },
          "metadata": {
            "tags": []
          },
          "execution_count": 96
        },
        {
          "output_type": "display_data",
          "data": {
            "image/png": "[encoded data removed]",
            "text/plain": [
              "<Figure size 432x288 with 1 Axes>"
            ]
          },
          "metadata": {
            "tags": [],
            "needs_background": "light"
          }
        }
      ]
    },
    {
      "cell_type": "code",
      "metadata": {
        "id": "AW418BWh7imX",
        "colab_type": "code",
        "colab": {
          "base_uri": "https://localhost:8080/",
          "height": 283
        },
        "outputId": "0e7ee3e9-5b4b-4893-d809-cbb26fabb1cf"
      },
      "source": [
        "def runningMeanFast(x, N):\n",
        "    return np.convolve(x, np.ones((N,))/N)[(N-1):]\n",
        "\n",
        "N = 4000\n",
        "X0ts_av = runningMeanFast(Xts[:,0],N)\n",
        "pd.Series(X0ts_av[N:-N]).plot()"
      ],
      "execution_count": null,
      "outputs": [
        {
          "output_type": "execute_result",
          "data": {
            "text/plain": [
              "<matplotlib.axes._subplots.AxesSubplot at 0x7f974e0d1828>"
            ]
          },
          "metadata": {
            "tags": []
          },
          "execution_count": 97
        },
        {
          "output_type": "display_data",
          "data": {
            "image/png": "[encoded data removed]",
            "text/plain": [
              "<Figure size 432x288 with 1 Axes>"
            ]
          },
          "metadata": {
            "tags": [],
            "needs_background": "light"
          }
        }
      ]
    },
    {
      "cell_type": "markdown",
      "metadata": {
        "id": "dFq4Ur70E0Eg",
        "colab_type": "text"
      },
      "source": [
        "## Example 3: channel opening/closing with buffer and diffusion\n",
        "This example includes a calcium channel that can open and close.\n",
        "$$[B]_T = [BCa] + [B] = 10 \\mu M \\\\\n",
        "k_+ = 0.5 (\\mu M ms)^{-1} \\\\\n",
        "k_- = 0.25 (ms)^{-1}\n",
        "$$\n"
      ]
    },
    {
      "cell_type": "code",
      "metadata": {
        "id": "Dn2xVXgeE8Ix",
        "colab_type": "code",
        "colab": {
          "base_uri": "https://localhost:8080/",
          "height": 282
        },
        "outputId": "838aed4d-750b-4d3e-b96c-c0f6c98daff5"
      },
      "source": [
        "dt = 0.01 # ms\n",
        "Ttotal = 1000 # ms\n",
        "Tsteps = np.ceil(Ttotal/dt).astype(int)\n",
        "X0 = np.array([60, 5476, 548, 0.5,0.5],dtype=np.float32) # state vector\n",
        "V = np.array([[-1,-1,+1,0,0], \n",
        "              [+1,+1,-1,0,0],\n",
        "              [-1,0,0,0,0],\n",
        "              [1,0,0,0,0],\n",
        "              [0,0,0,-1,+1], # C -> O\n",
        "              [0,0,0,+1,-1], # O -> C\n",
        "              [1,0,0,0,0], # O -> O + Ca2+\n",
        "              ])\n",
        "Vsize = V.size\n",
        "I,J = V.shape\n",
        "Xt = X0.copy()\n",
        "Xsize = X0.size\n",
        "Xts = np.zeros((Tsteps,Xsize))\n",
        "\n",
        "\n",
        "kchp = 0.01 # closed to open (Wieder el al, 2020, pp 790-791: \"macroscopic rate constants for ch channel opening and closing as determined from electrophysiological measurements for instance\")\n",
        "kchm = 1 -  kchp # units?\n",
        "\n",
        "vscale=1\n",
        "c1p = 1.66e-4#/vscale/5 # for kp=0.5 umol/ms instead of 0.1 umol/ms\n",
        "c1m = 0.1#*2.5 # for km 0.25 /ms instead of 0.1 /ms\n",
        "cd = 0.2\n",
        "cchp = kchp\n",
        "cchm = kchm\n",
        "cp = 100 #7.5e-12/(2*1.602e-19)*1e3 # I/(2e) = ~3000 for 1 pA. In literature current is 5-10 pA by Fig 11, p 627 in Foskett, J. K., White, C., Cheung, K.-H., & Mak, D.-O. D. (2007). Inositol Trisphosphate Receptor Ca 2+ Release Channels. Physiological Reviews, 87(2), 593–658. http://doi.org/10.1152/physrev.00035.2006\n",
        "\n",
        "a4 = cd*X0[0] # time independent because bath Ca2+ not changing\n",
        "\n",
        "# for time step\n",
        "for t in range(Tsteps):\n",
        "  dW = np.random.normal(loc=0,scale=np.sqrt(dt),size=Vsize).reshape(I,J)\n",
        "  x1t,x2t,x3t,x4t,x5t = Xt\n",
        "\n",
        "  # open/close channel\n",
        "  #assert np.isclose(x4t+x5t,1) # how???\n",
        "\n",
        "  # model dependent reaction propensity\n",
        "  a1 = c1p*x1t*x2t\n",
        "  a2 = c1m*x3t\n",
        "  a3 = cd*x1t # diffuse away based on local [Ca2+]\n",
        "  a4 = a4 # diffuse in based on bath [Ca2+]\n",
        "  a5 = cchp*x4t # no calcium dependency for activating or inactivating!\n",
        "  a6 = cchm*x5t\n",
        "  a7 = cp*x5t # probability of (constant burst of) calcium release depends on probability of channel being open (where is calcium dependency?)\n",
        "  a = np.array([a1,a2,a3,a4, a5, a6, a7])#.reshape(-1,1)\n",
        "\n",
        "  dXt = (V*a.reshape(-1,1)).sum(0)*dt + (V*np.sqrt(a).reshape(-1,1)*dW).sum(0)\n",
        "  Xt += dXt\n",
        "  Xt[Xt < 0] = 0 # to prevent negative counts of molecules. see pp 778 and ref 41 in Wieder et al\n",
        "  Xt[-2:] /= Xt[-2:].sum() # open and closed probability must sum to 1\n",
        "  Xts[t,:] = Xt\n",
        "\n",
        "pd.Series(Xts[:,0]).plot()"
      ],
      "execution_count": null,
      "outputs": [
        {
          "output_type": "execute_result",
          "data": {
            "text/plain": [
              "<matplotlib.axes._subplots.AxesSubplot at 0x7f8feed562e8>"
            ]
          },
          "metadata": {
            "tags": []
          },
          "execution_count": 37
        },
        {
          "output_type": "display_data",
          "data": {
            "image/png": "[encoded data removed]",
            "text/plain": [
              "<Figure size 432x288 with 1 Axes>"
            ]
          },
          "metadata": {
            "tags": [],
            "needs_background": "light"
          }
        }
      ]
    },
    {
      "cell_type": "code",
      "metadata": {
        "id": "vugefar_oIKL",
        "colab_type": "code",
        "colab": {
          "base_uri": "https://localhost:8080/",
          "height": 282
        },
        "outputId": "70499437-5f63-4f64-b337-85f335d719f8"
      },
      "source": [
        "pd.Series(Xts[:,-1]).plot()"
      ],
      "execution_count": null,
      "outputs": [
        {
          "output_type": "execute_result",
          "data": {
            "text/plain": [
              "<matplotlib.axes._subplots.AxesSubplot at 0x7f8feee5d320>"
            ]
          },
          "metadata": {
            "tags": []
          },
          "execution_count": 36
        },
        {
          "output_type": "display_data",
          "data": {
            "image/png": "[encoded data removed]",
            "text/plain": [
              "<Figure size 432x288 with 1 Axes>"
            ]
          },
          "metadata": {
            "tags": [],
            "needs_background": "light"
          }
        }
      ]
    },
    {
      "cell_type": "code",
      "metadata": {
        "id": "_6jdqpy0f_W8",
        "colab_type": "code",
        "colab": {
          "base_uri": "https://localhost:8080/",
          "height": 34
        },
        "outputId": "3c8b31c3-3dcf-40cd-e73e-3c3d0421c51f"
      },
      "source": [
        "Xts[:,-1].max()"
      ],
      "execution_count": null,
      "outputs": [
        {
          "output_type": "execute_result",
          "data": {
            "text/plain": [
              "1.0"
            ]
          },
          "metadata": {
            "tags": []
          },
          "execution_count": 29
        }
      ]
    },
    {
      "cell_type": "markdown",
      "metadata": {
        "id": "VOP1IovoD_Z1",
        "colab_type": "text"
      },
      "source": [
        "## Limitations\n",
        "Depending on the volume, the copy numbers of the state vector can become negative, which is unphysical. The gaussian approximation to the Poisson distribution breaks down here, and care should be taken for values less than ~100 (e.g. compare the distributions)."
      ]
    },
    {
      "cell_type": "markdown",
      "metadata": {
        "id": "I4FfWL858eKH",
        "colab_type": "text"
      },
      "source": [
        "# Markov Process\n",
        "* Shuai et al (2007) extended previous models of the IP3R tetramer and introduced a 9 state model, which binding sites for IP3 and calcium (calcium dependent activating and inhibiting sites). The state of each 1mer of the 4mer can be described by a Markov Process"
      ]
    },
    {
      "cell_type": "code",
      "metadata": {
        "id": "hWu0RlxX8n8I",
        "colab_type": "code",
        "colab": {
          "base_uri": "https://localhost:8080/",
          "height": 204
        },
        "outputId": "009f345f-784d-40b6-bedf-f7a7a53571c0"
      },
      "source": [
        "%%bash \n",
        "wget -O markov_9state.jpg https://www.ncbi.nlm.nih.gov/pmc/articles/PMC1929031/bin/biophysj00108795F01_LW.jpg"
      ],
      "execution_count": 196,
      "outputs": [
        {
          "output_type": "stream",
          "text": [
            "--2020-07-24 17:12:19--  https://www.ncbi.nlm.nih.gov/pmc/articles/PMC1929031/bin/biophysj00108795F01_LW.jpg\n",
            "Resolving www.ncbi.nlm.nih.gov (www.ncbi.nlm.nih.gov)... 130.14.29.110, 2607:f220:41e:4290::110\n",
            "Connecting to www.ncbi.nlm.nih.gov (www.ncbi.nlm.nih.gov)|130.14.29.110|:443... connected.\n",
            "HTTP request sent, awaiting response... 200 OK\n",
            "Length: 23330 (23K) [image/jpeg]\n",
            "Saving to: ‘markov_9state.jpg’\n",
            "\n",
            "     0K .......... .......... ..                              100%  121K=0.2s\n",
            "\n",
            "2020-07-24 17:12:20 (121 KB/s) - ‘markov_9state.jpg’ saved [23330/23330]\n",
            "\n"
          ],
          "name": "stderr"
        }
      ]
    },
    {
      "cell_type": "code",
      "metadata": {
        "id": "0I6qyy8vvot1",
        "colab_type": "code",
        "colab": {
          "base_uri": "https://localhost:8080/",
          "height": 286
        },
        "outputId": "3168992b-65a5-4f6f-a3f9-20ad0f3e6788"
      },
      "source": [
        "from PIL import Image\n",
        "im = Image.open(\"markov_9state.jpg\")\n",
        "plt.imshow(im)"
      ],
      "execution_count": 200,
      "outputs": [
        {
          "output_type": "execute_result",
          "data": {
            "text/plain": [
              "<matplotlib.image.AxesImage at 0x7f9037f2c4e0>"
            ]
          },
          "metadata": {
            "tags": []
          },
          "execution_count": 200
        },
        {
          "output_type": "display_data",
          "data": {
            "image/png": "[encoded data removed]",
            "text/plain": [
              "<Figure size 432x288 with 1 Axes>"
            ]
          },
          "metadata": {
            "tags": [],
            "needs_background": "light"
          }
        }
      ]
    },
    {
      "cell_type": "markdown",
      "metadata": {
        "id": "UX7ad0SH8opx",
        "colab_type": "text"
      },
      "source": [
        "## Stochastic Transition Matrix\n",
        "* rows are probability from state row to state col. They sum to 1."
      ]
    },
    {
      "cell_type": "code",
      "metadata": {
        "id": "QBJlMAzE9Juf",
        "colab_type": "code",
        "colab": {
          "base_uri": "https://localhost:8080/",
          "height": 34
        },
        "outputId": "33f693b8-7bd1-4261-a366-6ac7137da3c4"
      },
      "source": [
        "def compute_P(Ca=0.05,IP3=10,dt=50e-6):\n",
        "\n",
        "  \n",
        "  a0 = 540\n",
        "  b0 = 80\n",
        "  a1 = 60\n",
        "  a2 = 0.04\n",
        "  a3 = 5\n",
        "  a4 = 0.5\n",
        "  a5 = 30\n",
        "  a = np.array([a1,a2,a3,a4,a5])\n",
        "  k1 = 0.0036 # 3.6 nM Kd for IP3\n",
        "  k2 = 16\n",
        "  k3 = 0.8\n",
        "  k4 = 0.072\n",
        "  k5 = 0.8\n",
        "  K = np.array([k1,k2,k3,k4,k5])\n",
        "  b1,b2,b3,b4,b5 = a*K\n",
        "\n",
        "  P = np.array([\n",
        "                [0,b0,0,0,0,0,0,0,0], # Active\n",
        "                [a0,0,b5,b1,0,a2*Ca,0,0,0], # 110 IP3 Ca_a\n",
        "                [0,a5*Ca,0,0,b1,0,a2*Ca,0,0], #100 IP3\n",
        "                [0,a1*IP3,0,0,b5,0,0,a4*Ca,0], # 010 Ca_a\n",
        "                [0,0,a1*IP3,a5*Ca,0,0,0,0,a4*Ca], # 000\n",
        "                [0,b2,0,0,0,0,b5,b3,0], #111 IP3 Ca_a Ca_i\n",
        "                [0,0,b2,0,0,a4*Ca,0,0,b3], # 101 IP3 Ca_i\n",
        "                [0,0,0,b4,0,a3*IP3,0,0,b5], # 011 Ca_a Ca_i\n",
        "                [0,0,0,0,b4,0,a3*IP3,a5*Ca,0], # 001 Ca_i\n",
        "                ])\n",
        "  dt=50e-6 # 10 us 1.6ms max step size, otherwise prob too big\n",
        "  P *= dt\n",
        "  P[np.diag_indices_from(P)] = 1 - P.sum(axis=1) # row sums. stationary probability\n",
        "\n",
        "  assert np.allclose(np.ones_like(P.sum(1)), P.sum(1))\n",
        "  assert np.alltrue(P<1)\n",
        "  return(P)\n",
        "P = compute_P(Ca=0.05,IP3=10,dt=50e-6)\n",
        "\n",
        "P[0]"
      ],
      "execution_count": 2,
      "outputs": [
        {
          "output_type": "execute_result",
          "data": {
            "text/plain": [
              "array([0.996, 0.004, 0.   , 0.   , 0.   , 0.   , 0.   , 0.   , 0.   ])"
            ]
          },
          "metadata": {
            "tags": []
          },
          "execution_count": 2
        }
      ]
    },
    {
      "cell_type": "code",
      "metadata": {
        "id": "TUm_k8EzW5fm",
        "colab_type": "code",
        "colab": {}
      },
      "source": [
        "# with np.printoptions(precision=3, suppress=True, threshold=6):\n",
        "#   for row in P: print(row[:10])"
      ],
      "execution_count": null,
      "outputs": []
    },
    {
      "cell_type": "code",
      "metadata": {
        "id": "a-MGIKLDOFbK",
        "colab_type": "code",
        "colab": {
          "base_uri": "https://localhost:8080/",
          "height": 282
        },
        "outputId": "e725148e-d6e1-4b9b-b721-706752ebb6e1"
      },
      "source": [
        "plt.imshow(np.log(1+P),cmap='gray')"
      ],
      "execution_count": null,
      "outputs": [
        {
          "output_type": "execute_result",
          "data": {
            "text/plain": [
              "<matplotlib.image.AxesImage at 0x7f15316f15f8>"
            ]
          },
          "metadata": {
            "tags": []
          },
          "execution_count": 81
        },
        {
          "output_type": "display_data",
          "data": {
            "image/png": "[encoded data removed]",
            "text/plain": [
              "<Figure size 432x288 with 1 Axes>"
            ]
          },
          "metadata": {
            "tags": [],
            "needs_background": "light"
          }
        }
      ]
    },
    {
      "cell_type": "code",
      "metadata": {
        "id": "Wx7Gw0RL7juH",
        "colab_type": "code",
        "colab": {
          "base_uri": "https://localhost:8080/",
          "height": 68
        },
        "outputId": "489f75f0-9b25-4090-e1b7-d0889160ffdf"
      },
      "source": [
        "P[-1]"
      ],
      "execution_count": null,
      "outputs": [
        {
          "output_type": "execute_result",
          "data": {
            "text/plain": [
              "array([0.000000e+00, 0.000000e+00, 0.000000e+00, 0.000000e+00,\n",
              "       1.800000e-06, 0.000000e+00, 1.250000e-05, 7.500000e-05,\n",
              "       9.999107e-01])"
            ]
          },
          "metadata": {
            "tags": []
          },
          "execution_count": 38
        }
      ]
    },
    {
      "cell_type": "markdown",
      "metadata": {
        "id": "lwyOsN1jDMeL",
        "colab_type": "text"
      },
      "source": [
        "The probabilities depend on the time step. By increasing the time step, we can speed up the time it takes to transition to the next step. There is no sense having even the largest probability for any state be so small, that we are always staying on that state. We would be simulating doing nothing!\n",
        "\n",
        "We can quickly check that the maximum transition probability for every state is not too small.\n",
        "\n"
      ]
    },
    {
      "cell_type": "code",
      "metadata": {
        "id": "ZLTanK5GCnpk",
        "colab_type": "code",
        "colab": {
          "base_uri": "https://localhost:8080/",
          "height": 51
        },
        "outputId": "8eb24030-30ad-4c5c-bb64-1f1b426d00b5"
      },
      "source": [
        "P_nodiag = (P - np.eye(P.shape[0])*np.diag(P))\n",
        "P_nodiag.max(1)"
      ],
      "execution_count": null,
      "outputs": [
        {
          "output_type": "execute_result",
          "data": {
            "text/plain": [
              "array([4.0e-03, 2.7e-02, 7.5e-05, 3.0e-02, 3.0e-02, 1.2e-03, 2.0e-04,\n",
              "       2.5e-03, 2.5e-03])"
            ]
          },
          "metadata": {
            "tags": []
          },
          "execution_count": 94
        }
      ]
    },
    {
      "cell_type": "markdown",
      "metadata": {
        "id": "tctQ-opMD4PA",
        "colab_type": "text"
      },
      "source": [
        "We should choose a simulation length where the smallest transition has some probability of occuring. I.e. the inverse of the smallest non zero probability"
      ]
    },
    {
      "cell_type": "code",
      "metadata": {
        "id": "9AVBq9v7D4nM",
        "colab_type": "code",
        "colab": {
          "base_uri": "https://localhost:8080/",
          "height": 34
        },
        "outputId": "7e566276-2f2f-45c2-d211-442a25257b26"
      },
      "source": [
        "P_nodiag[P_nodiag > 0].min()"
      ],
      "execution_count": null,
      "outputs": [
        {
          "output_type": "execute_result",
          "data": {
            "text/plain": [
              "1.0000000000000001e-07"
            ]
          },
          "metadata": {
            "tags": []
          },
          "execution_count": 95
        }
      ]
    },
    {
      "cell_type": "markdown",
      "metadata": {
        "id": "c3_sJS28Y8I9",
        "colab_type": "text"
      },
      "source": [
        "We have the probabilities. To take a stochastic step, we could draw from a uniform distribution and check the randomly drawn uniform variable against our transition probability... but then we'd have to check if it was between values. Alternatively, we can just treat each row in the transition matrix as the probabilities for a multinomial distrubution and draw a value."
      ]
    },
    {
      "cell_type": "markdown",
      "metadata": {
        "id": "t9UDcUmwzAeB",
        "colab_type": "text"
      },
      "source": [
        "## Stationary state\n",
        "What initial state do we use? We can pick one, or try to use the most likely state. The most likely state will be the stationary state. This can easily be found by computing the eigens of P. The eigenvector corresponding the the eigenvalue of 1 is the stationary state. However, this has a probability for each state, and we want to simulate a trajectory, where each protomer is only in one state at a time (not probabilistically).\n",
        "\n",
        "In this case we can simulate many trajectories, starting from an initial state, drawn from a multinomial distribution with probabilities given by the stationary state.\n",
        "\n",
        "We can also get a sense of how likely a state will be sampled."
      ]
    },
    {
      "cell_type": "code",
      "metadata": {
        "id": "3UIBrdc_wweF",
        "colab_type": "code",
        "colab": {
          "base_uri": "https://localhost:8080/",
          "height": 265
        },
        "outputId": "fab6cc3b-e8ea-44b2-bf58-40bd120860bd"
      },
      "source": [
        "def comp_stationary_state(P):\n",
        "  # from http://people.duke.edu/~ccc14/sta-663-2016/homework/Homework02_Solutions.html\n",
        "  lam, vec = scipy.linalg.eig(P, left=True, right=False)\n",
        "\n",
        "  idx = np.argmin(np.abs(lam - 1))\n",
        "  w = np.real(vec[:, idx])\n",
        "  w /= w.sum()\n",
        "  assert np.allclose(np.dot(w,P),w) # check stationary\n",
        "  assert np.isclose(w.sum(),1)\n",
        "  return(w)\n",
        "w = comp_stationary_state(P)\n",
        "pd.Series(w).plot.bar()\n",
        "plt.yscale('log')\n"
      ],
      "execution_count": 10,
      "outputs": [
        {
          "output_type": "display_data",
          "data": {
            "image/png": "[encoded data removed]",
            "text/plain": [
              "<Figure size 432x288 with 1 Axes>"
            ]
          },
          "metadata": {
            "tags": [],
            "needs_background": "light"
          }
        }
      ]
    },
    {
      "cell_type": "code",
      "metadata": {
        "id": "Tdt6So6x28Xg",
        "colab_type": "code",
        "colab": {
          "base_uri": "https://localhost:8080/",
          "height": 68
        },
        "outputId": "f5745dbb-5783-4a28-8a9f-d3046c51d30e"
      },
      "source": [
        "w"
      ],
      "execution_count": 223,
      "outputs": [
        {
          "output_type": "execute_result",
          "data": {
            "text/plain": [
              "array([2.83438238e-01, 4.19908500e-02, 6.71904513e-01, 1.51163872e-05,\n",
              "       2.41885944e-04, 1.21923821e-05, 2.21873063e-03, 4.19479719e-06,\n",
              "       1.74279044e-04])"
            ]
          },
          "metadata": {
            "tags": []
          },
          "execution_count": 223
        }
      ]
    },
    {
      "cell_type": "markdown",
      "metadata": {
        "id": "O2c9Uy4S0k5h",
        "colab_type": "text"
      },
      "source": [
        "We can also check at the end of our simulation, how the trajectory compares to the stationary state. Did we take enough steps that our statistics are independent of the initial state.\n",
        "\n",
        "We actually have to compute trajectories, in order to apply our open/closed criteria of \"at least 3 protomers in the activated state\". The stationary state averages over steps and we can't compare the protomers at each step."
      ]
    },
    {
      "cell_type": "code",
      "metadata": {
        "id": "R349dTHP0ATJ",
        "colab_type": "code",
        "colab": {
          "base_uri": "https://localhost:8080/",
          "height": 34
        },
        "outputId": "e44c889d-a438-4b85-b0a0-8287e828c4c0"
      },
      "source": [
        "state = np.argmax(np.random.multinomial(1,pvals=w,size=1))\n",
        "state"
      ],
      "execution_count": 193,
      "outputs": [
        {
          "output_type": "execute_result",
          "data": {
            "text/plain": [
              "0"
            ]
          },
          "metadata": {
            "tags": []
          },
          "execution_count": 193
        }
      ]
    },
    {
      "cell_type": "markdown",
      "metadata": {
        "id": "b1f6QzejFbsd",
        "colab_type": "text"
      },
      "source": [
        "## One protomer"
      ]
    },
    {
      "cell_type": "code",
      "metadata": {
        "id": "RA3oV93u0N3_",
        "colab_type": "code",
        "colab": {
          "base_uri": "https://localhost:8080/",
          "height": 34
        },
        "outputId": "0a29fe03-c7c4-47a4-b4a5-b8f1666c2488"
      },
      "source": [
        "Ttotal = 10 # in s\n",
        "Tsteps = int(Ttotal / dt)\n",
        "np.log10(Tsteps)"
      ],
      "execution_count": null,
      "outputs": [
        {
          "output_type": "execute_result",
          "data": {
            "text/plain": [
              "5.301029995663981"
            ]
          },
          "metadata": {
            "tags": []
          },
          "execution_count": 96
        }
      ]
    },
    {
      "cell_type": "code",
      "metadata": {
        "id": "l1gkR-0zy4m-",
        "colab_type": "code",
        "colab": {
          "base_uri": "https://localhost:8080/",
          "height": 51
        },
        "outputId": "427dfd75-9bb7-493d-9682-a509f8ffc071"
      },
      "source": [
        "%%time\n",
        "state=-1\n",
        "Tsteps = int(10**5.5)\n",
        "states = np.zeros(Tsteps)\n",
        "for _ in range(Tsteps):\n",
        "  step = np.random.multinomial(1,pvals=P[state],size=1)\n",
        "  state = np.argmax(step)\n",
        "  states[_] = state\n"
      ],
      "execution_count": null,
      "outputs": [
        {
          "output_type": "stream",
          "text": [
            "CPU times: user 5.5 s, sys: 1.97 ms, total: 5.51 s\n",
            "Wall time: 5.5 s\n"
          ],
          "name": "stdout"
        }
      ]
    },
    {
      "cell_type": "code",
      "metadata": {
        "id": "FCBkcfEPzynN",
        "colab_type": "code",
        "colab": {
          "base_uri": "https://localhost:8080/",
          "height": 136
        },
        "outputId": "8d879d25-b78f-4227-fddf-778d2faf3199"
      },
      "source": [
        "pd.Series(states).value_counts()"
      ],
      "execution_count": null,
      "outputs": [
        {
          "output_type": "execute_result",
          "data": {
            "text/plain": [
              "2.0    210345\n",
              "0.0     64932\n",
              "6.0     29904\n",
              "1.0      9910\n",
              "8.0      1053\n",
              "4.0        83\n",
              "dtype: int64"
            ]
          },
          "metadata": {
            "tags": []
          },
          "execution_count": 98
        }
      ]
    },
    {
      "cell_type": "markdown",
      "metadata": {
        "id": "ov-2U3XiFeG2",
        "colab_type": "text"
      },
      "source": [
        "## Tetramer"
      ]
    },
    {
      "cell_type": "markdown",
      "metadata": {
        "id": "pKrliDu61DwJ",
        "colab_type": "text"
      },
      "source": [
        "The loop is not parallelizable, since the next state depends on the previous state. However, we can precompute the steps, since they only depend on the state. Then we can just look them up and apply them for a certain path. \n",
        "\n",
        "Here we compute a possible transition for every state in every step for the 4mers (over compute), and then we loop through and use the step that we end up having."
      ]
    },
    {
      "cell_type": "code",
      "metadata": {
        "id": "2irrHMSi9LdM",
        "colab_type": "code",
        "colab": {
          "base_uri": "https://localhost:8080/",
          "height": 34
        },
        "outputId": "e0bd7d03-8418-4bfb-ad38-95d3d61891cb"
      },
      "source": [
        "dt = 50e-6\n",
        "Ttotal = 500 # 500s\n",
        "Tsteps = int(Ttotal / dt)\n",
        "np.log10(Tsteps)"
      ],
      "execution_count": 167,
      "outputs": [
        {
          "output_type": "execute_result",
          "data": {
            "text/plain": [
              "7.0"
            ]
          },
          "metadata": {
            "tags": []
          },
          "execution_count": 167
        }
      ]
    },
    {
      "cell_type": "code",
      "metadata": {
        "id": "AaRGxejr1kY4",
        "colab_type": "code",
        "colab": {
          "base_uri": "https://localhost:8080/",
          "height": 51
        },
        "outputId": "575e9d04-f7a6-4113-9edb-ea4fac6dec81"
      },
      "source": [
        "%%time\n",
        "def precompute_state_transitions(P,Tsteps):\n",
        "  state_transitions = np.empty((Tsteps,4, P.shape[0]), dtype=np.int16)\n",
        "  for state in range(P.shape[0]):\n",
        "    state_transitions[:,:,state] = np.argmax(np.random.multinomial(1,pvals=P[state],size=4*Tsteps),axis=1).reshape(Tsteps,4)\n",
        "  return(state_transitions)\n",
        "state_transitions = precompute_state_transitions(P,Tsteps)"
      ],
      "execution_count": 168,
      "outputs": [
        {
          "output_type": "stream",
          "text": [
            "CPU times: user 1min 5s, sys: 2.76 s, total: 1min 7s\n",
            "Wall time: 1min 7s\n"
          ],
          "name": "stdout"
        }
      ]
    },
    {
      "cell_type": "code",
      "metadata": {
        "id": "JGOu4Kaj1UaC",
        "colab_type": "code",
        "colab": {
          "base_uri": "https://localhost:8080/",
          "height": 51
        },
        "outputId": "bf8deef8-2bd8-464c-e6ec-d34cb06a4010"
      },
      "source": [
        "%%time\n",
        "def simulate_markov_process(state_transitions,initial_state):\n",
        "  Tsteps = state_transitions.shape[0]\n",
        "  states = np.zeros((Tsteps,4))\n",
        "  state_4mer = initial_state \n",
        "  idx_4mer = np.array([0,1,2,3])\n",
        "  for t in range(Tsteps):\n",
        "    state_4mer = state_transitions[t,idx_4mer,state_4mer]\n",
        "    states[t] = state_4mer\n",
        "  return(states)\n",
        "\n",
        "initial_state = np.array([-1,-1,-1,-1])# all 4mer Ca_i\n",
        "states = simulate_markov_process(state_transitions,initial_state)"
      ],
      "execution_count": 169,
      "outputs": [
        {
          "output_type": "stream",
          "text": [
            "CPU times: user 22.7 s, sys: 3.57 ms, total: 22.8 s\n",
            "Wall time: 22.8 s\n"
          ],
          "name": "stdout"
        }
      ]
    },
    {
      "cell_type": "code",
      "metadata": {
        "id": "Ry_hqWz4E3j3",
        "colab_type": "code",
        "colab": {
          "base_uri": "https://localhost:8080/",
          "height": 119
        },
        "outputId": "1dde70f2-7542-46d7-e0ec-b0272b01f6a6"
      },
      "source": [
        "act_states = (states == 0).sum(1)\n",
        "pd.Series(act_states).value_counts()"
      ],
      "execution_count": 170,
      "outputs": [
        {
          "output_type": "execute_result",
          "data": {
            "text/plain": [
              "1    4069222\n",
              "0    2666658\n",
              "2    2496918\n",
              "3     693971\n",
              "4      73231\n",
              "dtype: int64"
            ]
          },
          "metadata": {
            "tags": []
          },
          "execution_count": 170
        }
      ]
    },
    {
      "cell_type": "code",
      "metadata": {
        "id": "lVgf3Ns992Bl",
        "colab_type": "code",
        "colab": {
          "base_uri": "https://localhost:8080/",
          "height": 34
        },
        "outputId": "3e9834ff-82fb-45da-926b-08244ca23bde"
      },
      "source": [
        "open_states = (states == 0).sum(1) >= 3\n",
        "open_states.mean()"
      ],
      "execution_count": 171,
      "outputs": [
        {
          "output_type": "execute_result",
          "data": {
            "text/plain": [
              "0.0767202"
            ]
          },
          "metadata": {
            "tags": []
          },
          "execution_count": 171
        }
      ]
    },
    {
      "cell_type": "code",
      "metadata": {
        "id": "GOM7Ezcw-qyR",
        "colab_type": "code",
        "colab": {
          "base_uri": "https://localhost:8080/",
          "height": 282
        },
        "outputId": "8eed5a85-b9df-46e7-a911-3ddd458b04fb"
      },
      "source": [
        "pd.Series(open_states.astype(int)[:100000]).plot() # dt = 0.0016, Tsteps=6.25e6\n",
        "dt, Tsteps\n"
      ],
      "execution_count": 175,
      "outputs": [
        {
          "output_type": "execute_result",
          "data": {
            "text/plain": [
              "(5e-05, 10000000)"
            ]
          },
          "metadata": {
            "tags": []
          },
          "execution_count": 175
        },
        {
          "output_type": "display_data",
          "data": {
            "image/png": "[encoded data removed]",
            "text/plain": [
              "<Figure size 432x288 with 1 Axes>"
            ]
          },
          "metadata": {
            "tags": [],
            "needs_background": "light"
          }
        }
      ]
    },
    {
      "cell_type": "markdown",
      "metadata": {
        "id": "kccU48EJF-j_",
        "colab_type": "text"
      },
      "source": [
        "## Biphasic calcium dependency\n",
        "* The Po is biphasically dependent on [Ca2+]. Let's try to reproduce this. The transition matrix needs to be recomputed for every different [Ca2+]\n"
      ]
    },
    {
      "cell_type": "code",
      "metadata": {
        "id": "qlarM6B_GPyS",
        "colab_type": "code",
        "colab": {
          "base_uri": "https://localhost:8080/",
          "height": 34
        },
        "outputId": "3bea266c-00d8-4dbc-b437-43fa1e7f40dc"
      },
      "source": [
        "dt=50e-6\n",
        "Ttotal = 100 # seconds\n",
        "Tsteps = int(Ttotal / dt)\n",
        "np.log10(Tsteps), Tsteps"
      ],
      "execution_count": 177,
      "outputs": [
        {
          "output_type": "execute_result",
          "data": {
            "text/plain": [
              "(6.301029995663981, 2000000)"
            ]
          },
          "metadata": {
            "tags": []
          },
          "execution_count": 177
        }
      ]
    },
    {
      "cell_type": "code",
      "metadata": {
        "id": "30gaBkq2Jcgc",
        "colab_type": "code",
        "colab": {}
      },
      "source": [
        "ca = [10**x for x in np.arange(-10.,-1,0.25)] + np.arange(0.1,1,0.1).tolist() + np.arange(1,10,1).tolist() + np.arange(10,50,5).tolist() + np.arange(50,100,10).tolist() + np.arange(100,700,100).tolist() #,0.1,0.2,0.3,0.4,0.5,0.1,10,20,35,40,45] 0 for 50\n",
        "\n",
        "#ca = [0.001,0.01,0.025,0.05] + np.arange(0.1,1,0.1).tolist() + np.arange(1,10,1).tolist() + np.arange(10,50,5).tolist() + np.arange(50,100,10).tolist() + np.arange(100,700,100).tolist() #,0.1,0.2,0.3,0.4,0.5,0.1,10,20,35,40,45] 0 for 50\n",
        "ca = np.array(ca)\n",
        "open_probs = np.empty_like(ca)\n",
        "states = np.empty((ca.size,Tsteps,4),dtype=np.int16)\n",
        "stationary_states = np.empty((ca.size,P.shape[0]))\n",
        "\n",
        "for i in range(ca.size): # parralelizable loop (ca conditions don't depend on each other)\n",
        "  P = compute_P(Ca=ca[i],IP3=10,dt=50e-6)\n",
        "  stationary_states[i] = comp_stationary_state(P)\n",
        "  state_transitions = precompute_state_transitions(P,Tsteps)\n",
        "  try:\n",
        "    initial_state = np.argmax(np.random.multinomial(1,pvals=stationary_states[i],size=4),1)\n",
        "  except:\n",
        "    initial_state = np.array([-1,-1,-1,-1])\n",
        "  states[i] = simulate_markov_process(state_transitions,initial_state)\n",
        "  open_states = (states[i] == 0).sum(1) >= 3 \n",
        "  open_probs[i] = open_states.mean()"
      ],
      "execution_count": 204,
      "outputs": []
    },
    {
      "cell_type": "code",
      "metadata": {
        "id": "ojwoUOt5s55u",
        "colab_type": "code",
        "colab": {
          "base_uri": "https://localhost:8080/",
          "height": 68
        },
        "outputId": "43538b98-ab39-4943-8fd1-fd7bf41757ce"
      },
      "source": [
        "comp_stationary_state(P)"
      ],
      "execution_count": 205,
      "outputs": [
        {
          "output_type": "execute_result",
          "data": {
            "text/plain": [
              "array([1.39723601e-01, 2.06997927e-02, 2.95792932e-05, 7.45259102e-06,\n",
              "       9.98288577e-09, 7.20566207e-01, 5.67852420e-02, 6.20929707e-02,\n",
              "       9.51452539e-05])"
            ]
          },
          "metadata": {
            "tags": []
          },
          "execution_count": 205
        }
      ]
    },
    {
      "cell_type": "code",
      "metadata": {
        "id": "PutTmVXP1VD8",
        "colab_type": "code",
        "colab": {
          "base_uri": "https://localhost:8080/",
          "height": 262
        },
        "outputId": "3f876e83-5c95-472b-cbd8-553e0fe30b6b"
      },
      "source": [
        "max_po_idx = np.argmax(open_probs)\n",
        "\n",
        "pd.Series(states[max_po_idx].flatten()).value_counts(normalize=True).sort_index().plot.bar()\n",
        "plt.yscale('log')"
      ],
      "execution_count": 206,
      "outputs": [
        {
          "output_type": "display_data",
          "data": {
            "image/png": "[encoded data removed]",
            "text/plain": [
              "<Figure size 432x288 with 1 Axes>"
            ]
          },
          "metadata": {
            "tags": [],
            "needs_background": "light"
          }
        }
      ]
    },
    {
      "cell_type": "code",
      "metadata": {
        "id": "dwRCuEgu4RJF",
        "colab_type": "code",
        "colab": {
          "base_uri": "https://localhost:8080/",
          "height": 262
        },
        "outputId": "064c5218-7a76-4056-b205-ec89167fe65c"
      },
      "source": [
        "pd.Series(stationary_states[max_po_idx]).plot.bar()\n",
        "plt.yscale('log')"
      ],
      "execution_count": 207,
      "outputs": [
        {
          "output_type": "display_data",
          "data": {
            "image/png": "[encoded data removed]",
            "text/plain": [
              "<Figure size 432x288 with 1 Axes>"
            ]
          },
          "metadata": {
            "tags": [],
            "needs_background": "light"
          }
        }
      ]
    },
    {
      "cell_type": "markdown",
      "metadata": {
        "id": "iAkfYkzR3f__",
        "colab_type": "text"
      },
      "source": [
        "This matches with the stationary state. If we notice that some states are missing in the Markov process, but are present in the stationary state, this means we have not sampled enough to visit these other rare states."
      ]
    },
    {
      "cell_type": "code",
      "metadata": {
        "id": "owre7O0WKklC",
        "colab_type": "code",
        "colab": {
          "base_uri": "https://localhost:8080/",
          "height": 316
        },
        "outputId": "d5706a1f-399c-4280-b06c-1ba544633040"
      },
      "source": [
        "sr = pd.Series(open_probs)\n",
        "sr.index = ca\n",
        "ax = sr.plot.line()\n",
        "ax.set_xlabel('[Ca2+]')\n",
        "ax.set_ylabel('Po')\n",
        "plt.xscale('log')\n",
        "ax.set_title('Biphasic Open Probability')"
      ],
      "execution_count": 208,
      "outputs": [
        {
          "output_type": "execute_result",
          "data": {
            "text/plain": [
              "Text(0.5, 1.0, 'Biphasic Open Probability')"
            ]
          },
          "metadata": {
            "tags": []
          },
          "execution_count": 208
        },
        {
          "output_type": "display_data",
          "data": {
            "image/png": "[encoded data removed]",
            "text/plain": [
              "<Figure size 432x288 with 1 Axes>"
            ]
          },
          "metadata": {
            "tags": [],
            "needs_background": "light"
          }
        }
      ]
    },
    {
      "cell_type": "markdown",
      "metadata": {
        "id": "EKT_WBOIcqki",
        "colab_type": "text"
      },
      "source": [
        "This Markov Process model recapitulates the experimentally observed biphasic bell shaped open probability. This verified the model. Nature may be more interesting than this simple model. \n",
        "\n",
        "If another model predicts new (unique?) bahaviour, and there is a way to experimentally measure the predictions from this model, then we can learn about the microscopic behaviour through the macroscopic observables. This is biophysics!\n",
        "\n",
        "For instance, we can define an open state as a 4mer with 2 or more activated protomers (instead of 3)."
      ]
    },
    {
      "cell_type": "code",
      "metadata": {
        "id": "eE5w37Op5YAh",
        "colab_type": "code",
        "colab": {
          "base_uri": "https://localhost:8080/",
          "height": 35
        },
        "outputId": "ca629b82-f438-4064-a682-9c67b3216b95"
      },
      "source": [
        "from datetime import datetime\n",
        "now = datetime.now() # current date and time\n",
        "timestr = now.strftime(\"%Y%m%d_%H%M%S\")\n",
        "timestr"
      ],
      "execution_count": 212,
      "outputs": [
        {
          "output_type": "execute_result",
          "data": {
            "application/vnd.google.colaboratory.intrinsic+json": {
              "type": "string"
            },
            "text/plain": [
              "'20200724_173705'"
            ]
          },
          "metadata": {
            "tags": []
          },
          "execution_count": 212
        }
      ]
    },
    {
      "cell_type": "code",
      "metadata": {
        "id": "yryF4g6l6Yv_",
        "colab_type": "code",
        "colab": {}
      },
      "source": [
        "%mkdir -p /content/drive/My\\ Drive/repos/calcium_signalling_simulations/data"
      ],
      "execution_count": 223,
      "outputs": []
    },
    {
      "cell_type": "code",
      "metadata": {
        "id": "W7Z3TvdBM_oP",
        "colab_type": "code",
        "colab": {}
      },
      "source": [
        "wdir = '/content/drive/My Drive/repos/calcium_signalling_simulations/data'\n",
        "np.save(wdir+timestr+'-states.npy',states)\n",
        "np.save(wdir+timestr+'-ca.npy',ca)"
      ],
      "execution_count": 225,
      "outputs": []
    },
    {
      "cell_type": "code",
      "metadata": {
        "id": "6ZubtSLl66Ci",
        "colab_type": "code",
        "colab": {
          "base_uri": "https://localhost:8080/",
          "height": 299
        },
        "outputId": "73eaad2d-8184-44a1-ffe7-a35569c7b46e"
      },
      "source": [
        "for n_protomers_act in [1,2,3,4]:\n",
        "  for ca_idx in range(i): # states.shape[0]\n",
        "    open_states = (states[ca_idx] == 0).sum(1) >= n_protomers_act\n",
        "    open_probs[ca_idx] = open_states.mean()\n",
        "\n",
        "  sr = pd.Series(open_probs)\n",
        "  sr.index = ca\n",
        "  ax = sr.plot(legend=True, label=n_protomers_act)\n",
        "  ax.set_xlabel('[Ca2+] (uM)')\n",
        "  ax.set_ylabel('Po')\n",
        "  plt.xscale('log')\n",
        "  ax.set_title('Biphasic Open Probability | Markov Timecourse Simulations')\n"
      ],
      "execution_count": 227,
      "outputs": [
        {
          "output_type": "display_data",
          "data": {
            "image/png": "[encoded data removed]",
            "text/plain": [
              "<Figure size 432x288 with 1 Axes>"
            ]
          },
          "metadata": {
            "tags": [],
            "needs_background": "light"
          }
        }
      ]
    },
    {
      "cell_type": "markdown",
      "metadata": {
        "id": "vk03IVNI_7U-",
        "colab_type": "text"
      },
      "source": [
        "Here we see that the peak width changes with the number of channels that need to be open to define an open state. To peak width is a measure of the cooperativity of the tetramers."
      ]
    },
    {
      "cell_type": "markdown",
      "metadata": {
        "id": "M8ktho4QqBvD",
        "colab_type": "text"
      },
      "source": [
        "## Equilibrium statistics from stationary state\n",
        "\n",
        "* We need the simulated trajectory for kinetic properties like open and closed time. However, if we are computing statistics where the order doesn't matter, like the expectation, we can compute the stationary state and then do statistics on those. This is much faster and by definition doesn't depend on the initial state (because there is none).\n",
        "* For instance the open probability, with 3+ activated channels defining 'open') is given by \n",
        "$$\n",
        "p_{4mer open} = p(\\text{four protomers activated}) + p(\\text{3 protomers activated}) \\\\ \n",
        "= p_{ACT}^4 + 4p_{ACT}^3(1-p_{ACT}) \\\\ \n",
        "= p_{ACT}^3[p_{ACT} + 4(1-p_{ACT})] \\\\ \n",
        "= p_{ACT}^3[4 - 3p_{ACT}] \\\\ \n",
        "$$"
      ]
    },
    {
      "cell_type": "code",
      "metadata": {
        "id": "eFeZ18TDqXAb",
        "colab_type": "code",
        "colab": {
          "base_uri": "https://localhost:8080/",
          "height": 51
        },
        "outputId": "afa6e0a9-b892-456b-bea5-582e163bb965"
      },
      "source": [
        "%%time\n",
        "pa = stationary_states[:,0]\n",
        "po = pa**3*(4-3*pa)"
      ],
      "execution_count": 275,
      "outputs": [
        {
          "output_type": "stream",
          "text": [
            "CPU times: user 78 µs, sys: 0 ns, total: 78 µs\n",
            "Wall time: 83 µs\n"
          ],
          "name": "stdout"
        }
      ]
    },
    {
      "cell_type": "code",
      "metadata": {
        "id": "lT1RbZ-ysG0F",
        "colab_type": "code",
        "colab": {
          "base_uri": "https://localhost:8080/",
          "height": 316
        },
        "outputId": "f0ca2cef-a873-47d4-b6d1-33a4a61fb40e"
      },
      "source": [
        "  sr = pd.Series(po)\n",
        "  sr.index = ca\n",
        "  ax = sr.plot(legend=True, label=state_for_open)\n",
        "  ax.set_xlabel('[Ca2+] (uM)')\n",
        "  ax.set_ylabel('Po')\n",
        "  plt.xscale('log')\n",
        "  ax.set_title('Biphasic Open Probability?')"
      ],
      "execution_count": 276,
      "outputs": [
        {
          "output_type": "execute_result",
          "data": {
            "text/plain": [
              "Text(0.5, 1.0, 'Biphasic Open Probability?')"
            ]
          },
          "metadata": {
            "tags": []
          },
          "execution_count": 276
        },
        {
          "output_type": "display_data",
          "data": {
            "image/png": "[encoded data removed]",
            "text/plain": [
              "<Figure size 432x288 with 1 Axes>"
            ]
          },
          "metadata": {
            "tags": [],
            "needs_background": "light"
          }
        }
      ]
    },
    {
      "cell_type": "markdown",
      "metadata": {
        "id": "upqYmhAHslmc",
        "colab_type": "text"
      },
      "source": [
        "This takes practically no time at all to compute!\n",
        "\n",
        "We can just derive another analytical formula for different definitions of open:\n",
        "$$p(open|open:j+ protomers are activated) \\\\\n",
        "= \\sum_{i=j}^4 p(\\text{i protomers activated}) \\\\ \n",
        "=  {4 \\choose i}p_{ACT}^i (1-p_{ACT})^{4-i} \\\\\n",
        "$$"
      ]
    },
    {
      "cell_type": "code",
      "metadata": {
        "id": "7buWSnpbtQEm",
        "colab_type": "code",
        "colab": {
          "base_uri": "https://localhost:8080/",
          "height": 299
        },
        "outputId": "69a76e10-2502-4472-8492-62a3ce880f34"
      },
      "source": [
        "po = np.empty((4,pa.size))\n",
        "po_i = np.zeros_like(pa)\n",
        "for idx,i in enumerate([4,3,2,1]):\n",
        "  po_i += comb(4,i)*pa**i*(1-pa)**(4-i)\n",
        "  po[idx] = po_i\n",
        "  sr = pd.Series(po[idx])\n",
        "  sr.index = ca\n",
        "  ax = sr.plot(legend=True, label=i)\n",
        "  ax.set_xlabel('[Ca2+] (uM)')\n",
        "  ax.set_ylabel('Po')\n",
        "  plt.xscale('log')\n",
        "  ax.set_title('Biphasic Open Probability')"
      ],
      "execution_count": 277,
      "outputs": [
        {
          "output_type": "display_data",
          "data": {
            "image/png": "[encoded data removed]",
            "text/plain": [
              "<Figure size 432x288 with 1 Axes>"
            ]
          },
          "metadata": {
            "tags": [],
            "needs_background": "light"
          }
        }
      ]
    },
    {
      "cell_type": "code",
      "metadata": {
        "id": "oBk0D5tJBHcc",
        "colab_type": "code",
        "colab": {
          "base_uri": "https://localhost:8080/",
          "height": 34
        },
        "outputId": "81337fdb-6207-49d1-db09-2695fbe3a47f"
      },
      "source": [
        "np.argmax(po,axis=1)"
      ],
      "execution_count": 278,
      "outputs": [
        {
          "output_type": "execute_result",
          "data": {
            "text/plain": [
              "array([15, 15, 15, 15])"
            ]
          },
          "metadata": {
            "tags": []
          },
          "execution_count": 278
        }
      ]
    },
    {
      "cell_type": "code",
      "metadata": {
        "id": "06Wcusx7C_T2",
        "colab_type": "code",
        "colab": {
          "base_uri": "https://localhost:8080/",
          "height": 34
        },
        "outputId": "f3746529-dddd-49ba-a676-fb2f6cd93b9e"
      },
      "source": [
        "po[[0,1,2,3],np.argmax(po,axis=1)]"
      ],
      "execution_count": 279,
      "outputs": [
        {
          "output_type": "execute_result",
          "data": {
            "text/plain": [
              "array([0.4427487 , 0.84284458, 0.9784266 , 0.99884669])"
            ]
          },
          "metadata": {
            "tags": []
          },
          "execution_count": 279
        }
      ]
    },
    {
      "cell_type": "markdown",
      "metadata": {
        "id": "IvImZIt6BTTx",
        "colab_type": "text"
      },
      "source": [
        "Intestinly, the [Ca2+] that maximizes the open prob is the same, regardless of our open definition. This isn't surprising, since the protomers are independent in this model.\n",
        "\n",
        "We can read off the optimal calcium concentration from the graph."
      ]
    },
    {
      "cell_type": "code",
      "metadata": {
        "id": "iIOBeCrGBShL",
        "colab_type": "code",
        "colab": {
          "base_uri": "https://localhost:8080/",
          "height": 34
        },
        "outputId": "87bc7f3c-073d-4096-8614-0a8215dc9714"
      },
      "source": [
        "ca[np.argmax(po,axis=1)[0]]"
      ],
      "execution_count": 280,
      "outputs": [
        {
          "output_type": "execute_result",
          "data": {
            "text/plain": [
              "3.0"
            ]
          },
          "metadata": {
            "tags": []
          },
          "execution_count": 280
        }
      ]
    },
    {
      "cell_type": "markdown",
      "metadata": {
        "id": "pocJhMSwm2an",
        "colab_type": "text"
      },
      "source": [
        "## 4mer transition matrix\n",
        "* We can model the whole tetrameric state as a stochastic matrix, with states not just for one protomer, but for a whole tetramer. \n",
        "\n",
        "* Instead of a 9 state model (for one protomer), we have a ${9 \\choose 4}=126$ state model. Here each state specifies what each protomer is doing. When we compute this, we need to take into account combinatorial redundancies, and probabilistic independence between protomers. On the other hand, we can relax the independence, and model dependence between the protomers.\n",
        "  * Combinatorics: For e.g. there are 4 ways the tetramers can have state with three 0 and one 1: 0001,0010,0100,1000. But there is only 1 way that the tetramers can all be in state 0: 0000.\n",
        "  * It's actually much simpler to compute a larger stochastic matrix: $9^4=6561$. Note that it's not as simple as permutations instead of combinations, $9P4 = 9!/(9-4)!=3024$, because we can have the protomers in the same state.\n",
        "\n",
        "* Again, in this case, we don't have to simulate runs to compute the average states. We can just compute the stationary state directly from the stochastic matrix, and count tetrameric states that are defined as open."
      ]
    },
    {
      "cell_type": "markdown",
      "metadata": {
        "id": "vWWrJjug7dD5",
        "colab_type": "text"
      },
      "source": [
        "### All permutations (distinguishing protomers)"
      ]
    },
    {
      "cell_type": "code",
      "metadata": {
        "id": "I67oBUII2eX-",
        "colab_type": "code",
        "colab": {}
      },
      "source": [
        "@jit\n",
        "def make_P_4mer_unnorm(P):\n",
        "  '''\n",
        "  TODO: expsumlog\n",
        "  '''\n",
        "  N = P.shape[0]\n",
        "  N4,N3,N2 = [N**p for p in [4,3,2]]\n",
        "  P_4mer = np.zeros((N4,N4))\n",
        "  state_labels = np.zeros((N4,4)) # 4 for tetramer\n",
        "  state_labels[:,:] = np.nan # make sure overwrite with state, can check that nans all gone later\n",
        "  for idx_1_row in range(N):\n",
        "    for idx_1_col in range(N):\n",
        "      if P[idx_1_row,idx_1_col] == 0: continue\n",
        "      for idx_2_row in range(N):\n",
        "        for idx_2_col in range(N):\n",
        "          if P[idx_2_row,idx_2_col] == 0: continue\n",
        "          for idx_3_row in range(N):\n",
        "            for idx_3_col in range(N):\n",
        "              if P[idx_3_row,idx_3_col] == 0: continue\n",
        "              for idx_4_row in range(N):\n",
        "                for idx_4_col in range(N):\n",
        "                  if P[idx_4_row,idx_4_col] == 0: continue\n",
        "                  P_4mer[N3*idx_1_row+N2*idx_2_row+N*idx_3_row+idx_4_row, N3*idx_1_col+N2*idx_2_col+N*idx_3_col+idx_4_col] = P[idx_1_row,idx_1_col] * P[idx_2_row,idx_2_col] * P[idx_3_row,idx_3_col] * P[idx_4_row,idx_4_col]\n",
        "                  state_labels[N3*idx_1_row+N2*idx_2_row+N*idx_3_row+idx_4_row] = idx_1_row,idx_2_row,idx_3_row,idx_4_row\n",
        "  #P_4mer /= P_4mer.sum(1)\n",
        "  #row_sums = P_4mer.sum(1)\n",
        "  #assert np.allclose(row_sums, np.ones_like(row_sums))\n",
        "  return(state_labels,P_4mer)\n",
        "\n",
        "def make_P_4mer(P):\n",
        "  state_labels,P_4mer = make_P_4mer_unnorm(P)\n",
        "  return(state_labels,normalize(P_4mer, axis=1, norm='l1'))\n",
        "\n",
        "\n",
        "\n"
      ],
      "execution_count": 3,
      "outputs": []
    },
    {
      "cell_type": "code",
      "metadata": {
        "id": "m9eH3hX8AthR",
        "colab_type": "code",
        "colab": {
          "base_uri": "https://localhost:8080/",
          "height": 51
        },
        "outputId": "261e630b-13fe-4df1-901e-eb076ede76bc"
      },
      "source": [
        "%%time\n",
        "P = compute_P(Ca=3)\n",
        "state_labels, P_4mer = make_P_4mer(P)"
      ],
      "execution_count": 4,
      "outputs": [
        {
          "output_type": "stream",
          "text": [
            "CPU times: user 1.18 s, sys: 283 ms, total: 1.46 s\n",
            "Wall time: 1.46 s\n"
          ],
          "name": "stdout"
        }
      ]
    },
    {
      "cell_type": "code",
      "metadata": {
        "id": "EbSIMIv5-aVN",
        "colab_type": "code",
        "colab": {}
      },
      "source": [
        "def check_stochastic(P):\n",
        "  row_sums = P.sum(1)\n",
        "  assert np.allclose(row_sums, np.ones_like(row_sums))\n",
        "  assert np.alltrue(P <= 1)\n",
        "check_stochastic(P_4mer)  "
      ],
      "execution_count": 15,
      "outputs": []
    },
    {
      "cell_type": "markdown",
      "metadata": {
        "id": "3jQ1G9rq8Ict",
        "colab_type": "text"
      },
      "source": [
        "Depending on how sparse the matrix is, we could encode it as sparse and use sparse eigen solvers."
      ]
    },
    {
      "cell_type": "code",
      "metadata": {
        "id": "AbHXupzI4Cps",
        "colab_type": "code",
        "colab": {
          "base_uri": "https://localhost:8080/",
          "height": 34
        },
        "outputId": "da14c78e-b1f6-4c50-bc14-5a9227a53985"
      },
      "source": [
        "np.isclose(P_4mer,0).mean(), P_4mer.shape\n"
      ],
      "execution_count": 272,
      "outputs": [
        {
          "output_type": "execute_result",
          "data": {
            "text/plain": [
              "(0.9908583977859777, (6561, 6561))"
            ]
          },
          "metadata": {
            "tags": []
          },
          "execution_count": 272
        }
      ]
    },
    {
      "cell_type": "markdown",
      "metadata": {
        "id": "d-J7a0jQ8E1O",
        "colab_type": "text"
      },
      "source": [
        "I can leverage the sparsity of the larger stochastic transition matrix and use a sparse eigen solver.\n",
        "\n",
        "|length|`scipy.linalg.eig` compute time(s)|scipy.sparse.linalg.eigs compute time (s)|\n",
        "|-|-|-|\n",
        "|2000|4.62|11|\n",
        "|2500|8.7||\n",
        "|3000|13.2||\n",
        "|4000|29.8||\n",
        "|5000|53.7||\n",
        "|6561|2.5min|10.5, 21.9,62|"
      ]
    },
    {
      "cell_type": "code",
      "metadata": {
        "id": "HkilbkA67QTI",
        "colab_type": "code",
        "colab": {
          "base_uri": "https://localhost:8080/",
          "height": 51
        },
        "outputId": "cdd566cb-0a63-47b3-fbcf-db2a170888d0"
      },
      "source": [
        "%%time\n",
        "N = P_4mer.shape[0]\n",
        "w,v = scipy.sparse.linalg.eigs(P_4mer[:N,:N].T, k=3)"
      ],
      "execution_count": 42,
      "outputs": [
        {
          "output_type": "stream",
          "text": [
            "CPU times: user 3min 30s, sys: 35.5 s, total: 4min 6s\n",
            "Wall time: 1min 2s\n"
          ],
          "name": "stdout"
        }
      ]
    },
    {
      "cell_type": "markdown",
      "metadata": {
        "id": "wQ1QvRPs8d75",
        "colab_type": "text"
      },
      "source": [
        "I can also just matrix multipy repeatedly, and apply to some (random) state. This doesn't give the other eigens, but I only need the stationary state. See [here](http://people.duke.edu/~ccc14/sta-663-2016/homework/Homework02_Solutions.html#Part-3:-Option-2:-Using-numpy.linalg-with-transpose-to-get-the-left-eigenvectors)\n",
        "\n",
        "|$n$ for $p^n$|compute time (s)|sparsity (%)|\n",
        "|-|-|-|\n",
        "|3|16.9||\n",
        "|8|25.6||\n",
        "|16|41.6|93|\n",
        "|50|58.6||\n",
        "|64|51|84|\n",
        "|128|59.5|82.9|"
      ]
    },
    {
      "cell_type": "code",
      "metadata": {
        "id": "2NgEll--N7bR",
        "colab_type": "code",
        "colab": {
          "base_uri": "https://localhost:8080/",
          "height": 51
        },
        "outputId": "4482b10d-7c4e-46ac-b8f3-e6f87136676a"
      },
      "source": [
        "%%time\n",
        "P_inf = np.linalg.matrix_power(P_4mer,128)\n"
      ],
      "execution_count": 59,
      "outputs": [
        {
          "output_type": "stream",
          "text": [
            "CPU times: user 3min 53s, sys: 2.08 s, total: 3min 55s\n",
            "Wall time: 59.5 s\n"
          ],
          "name": "stdout"
        }
      ]
    },
    {
      "cell_type": "code",
      "metadata": {
        "id": "C7Aj8gZ1OYpS",
        "colab_type": "code",
        "colab": {
          "base_uri": "https://localhost:8080/",
          "height": 34
        },
        "outputId": "5585aeaf-5b8f-4fda-e2a5-bffdfa093a38"
      },
      "source": [
        "np.isclose(P_inf,0).mean()\n"
      ],
      "execution_count": 60,
      "outputs": [
        {
          "output_type": "execute_result",
          "data": {
            "text/plain": [
              "0.8293159657851756"
            ]
          },
          "metadata": {
            "tags": []
          },
          "execution_count": 60
        }
      ]
    },
    {
      "cell_type": "markdown",
      "metadata": {
        "id": "LRsY4KokVo2_",
        "colab_type": "text"
      },
      "source": [
        "But are we getting close enough to infinity? Have we really reached a stationary state? We can check for some random initial vector. Between 64 and 128 applications of the matrix, we get there."
      ]
    },
    {
      "cell_type": "code",
      "metadata": {
        "id": "rir5aVpfVoNG",
        "colab_type": "code",
        "colab": {}
      },
      "source": [
        "v_rand = np.ones(P_inf.shape[0])\n",
        "v_rand = normalize(v_rand.reshape(1,-1), axis=1, norm='l1')\n",
        "stationary_state = np.dot(v_rand,P_inf)"
      ],
      "execution_count": 61,
      "outputs": []
    },
    {
      "cell_type": "code",
      "metadata": {
        "id": "2xdNAYXqWKW2",
        "colab_type": "code",
        "colab": {
          "base_uri": "https://localhost:8080/",
          "height": 51
        },
        "outputId": "79b2cc64-f7f2-4688-df38-dfc205ce3bf5"
      },
      "source": [
        "assert np.allclose(np.dot(stationary_state,P_4mer),stationary_state,atol=2e-4) # check stationary\n",
        "assert np.isclose(stationary_state.sum(),1)\n",
        "stationary_state, stationary_state.shape"
      ],
      "execution_count": 77,
      "outputs": [
        {
          "output_type": "execute_result",
          "data": {
            "text/plain": [
              "(array([[4.00260387e-02, 7.56417495e-03, 6.51861954e-05, ...,\n",
              "         3.76763985e-10, 6.73334053e-10, 5.87147970e-12]]), (1, 6561))"
            ]
          },
          "metadata": {
            "tags": []
          },
          "execution_count": 77
        }
      ]
    },
    {
      "cell_type": "markdown",
      "metadata": {
        "id": "ienIyCijYWKi",
        "colab_type": "text"
      },
      "source": [
        "With 64 we see some systematic trend, a bending effect. Perhaps at each iterations the dots move closer to the diagonal."
      ]
    },
    {
      "cell_type": "code",
      "metadata": {
        "id": "Bv6LbNwiXCf_",
        "colab_type": "code",
        "colab": {
          "base_uri": "https://localhost:8080/",
          "height": 495
        },
        "outputId": "a52b4e57-6630-4f7c-815f-af578d98c3af"
      },
      "source": [
        "sns.jointplot(x=stationary_state, y=np.dot(stationary_state,P_4mer))\n"
      ],
      "execution_count": 58,
      "outputs": [
        {
          "output_type": "stream",
          "text": [
            "/usr/local/lib/python3.6/dist-packages/statsmodels/tools/_testing.py:19: FutureWarning: pandas.util.testing is deprecated. Use the functions in the public API at pandas.testing instead.\n",
            "  import pandas.util.testing as tm\n"
          ],
          "name": "stderr"
        },
        {
          "output_type": "display_data",
          "data": {
            "image/png": "[encoded data removed]",
            "text/plain": [
              "<Figure size 432x432 with 3 Axes>"
            ]
          },
          "metadata": {
            "tags": [],
            "needs_background": "light"
          }
        }
      ]
    },
    {
      "cell_type": "markdown",
      "metadata": {
        "id": "foYWxwNSYkG-",
        "colab_type": "text"
      },
      "source": [
        "By 128 we are there. Also most of the values are bunched up at zero."
      ]
    },
    {
      "cell_type": "code",
      "metadata": {
        "id": "ht92cVNUXzRb",
        "colab_type": "code",
        "colab": {
          "base_uri": "https://localhost:8080/",
          "height": 458
        },
        "outputId": "7f4b099a-8594-43dc-dfe3-2857717a616e"
      },
      "source": [
        "sns.jointplot(x=stationary_state, y=np.dot(stationary_state,P_4mer))\n"
      ],
      "execution_count": 63,
      "outputs": [
        {
          "output_type": "execute_result",
          "data": {
            "text/plain": [
              "<seaborn.axisgrid.JointGrid at 0x7f22433f7518>"
            ]
          },
          "metadata": {
            "tags": []
          },
          "execution_count": 63
        },
        {
          "output_type": "display_data",
          "data": {
            "image/png": "[encoded data removed]",
            "text/plain": [
              "<Figure size 432x432 with 3 Axes>"
            ]
          },
          "metadata": {
            "tags": [],
            "needs_background": "light"
          }
        }
      ]
    },
    {
      "cell_type": "markdown",
      "metadata": {
        "id": "XD_WGX0HVCeS",
        "colab_type": "text"
      },
      "source": [
        "The fasts method is probably dependent on the size of the stochastic transition matrix, the sparsity, colab resources, etc. The eigen solver is seems faster in our case."
      ]
    },
    {
      "cell_type": "code",
      "metadata": {
        "id": "sI7tNLQ8A93E",
        "colab_type": "code",
        "colab": {
          "base_uri": "https://localhost:8080/",
          "height": 51
        },
        "outputId": "2a5bbce4-74ae-43ad-e693-1048b52ce6c9"
      },
      "source": [
        "%%time\n",
        "def comp_stationary_state(P,do_sparse=False,do_inf=False,inf=None):\n",
        "  # from http://people.duke.edu/~ccc14/sta-663-2016/homework/Homework02_Solutions.html\n",
        "  if do_sparse:\n",
        "    lam, vec = scipy.sparse.linalg.eigs(P.T)\n",
        "    vec = vec.real.round(7)\n",
        "    lam = lam.real\n",
        "    lam *= np.sign(lam) # positive 1\n",
        "  else:\n",
        "    lam, vec = scipy.sparse.linalg.eigs(P, left=True, right=False)\n",
        "\n",
        "  if do_inf:\n",
        "    assert inf is not None # infinity is large integer (e.g. 64 for )\n",
        "    P_inf = np.linalg.matrix_power(P,inf) # to dense?\n",
        "    v_rand = np.ones_like(P.shape[0])\n",
        "    v_rand /= v_rand.sum()\n",
        "    vec = np.dot(v_rand,P_inf)\n",
        " \n",
        "  else:\n",
        "    idx = np.argmin(np.abs(lam - 1))\n",
        "    vec = np.real(vec[:, idx])\n",
        "    vec /= vec.sum() # positive\n",
        "    assert np.allclose(np.dot(vec,P),vec) # check stationary\n",
        "    assert np.isclose(vec.sum(),1)\n",
        "  return(vec)\n",
        "P_4mer_s = csr_matrix(P_4mer)\n",
        "stationary_state = comp_stationary_state(P_4mer, do_sparse=True)\n",
        "\n"
      ],
      "execution_count": 35,
      "outputs": [
        {
          "output_type": "stream",
          "text": [
            "CPU times: user 1min 13s, sys: 13.2 s, total: 1min 26s\n",
            "Wall time: 21.9 s\n"
          ],
          "name": "stdout"
        }
      ]
    },
    {
      "cell_type": "code",
      "metadata": {
        "id": "X_aT0lvLIV_A",
        "colab_type": "code",
        "colab": {
          "base_uri": "https://localhost:8080/",
          "height": 282
        },
        "outputId": "312222cf-2d54-4eea-a4a7-d31130f30502"
      },
      "source": [
        "pd.Series(stationary_state).plot.bar()\n",
        "plt.yscale('log')"
      ],
      "execution_count": 12,
      "outputs": [
        {
          "output_type": "display_data",
          "data": {
            "image/png": "[encoded data removed]",
            "text/plain": [
              "<Figure size 432x288 with 1 Axes>"
            ]
          },
          "metadata": {
            "tags": [],
            "needs_background": "light"
          }
        }
      ]
    },
    {
      "cell_type": "code",
      "metadata": {
        "id": "hmknHVCTFyNZ",
        "colab_type": "code",
        "colab": {
          "base_uri": "https://localhost:8080/",
          "height": 578
        },
        "outputId": "93f90f9a-a635-4355-b4e9-833b667717db"
      },
      "source": [
        "open_states = (state_labels == 0).sum(1) >= 3\n",
        "state_labels[open_states]"
      ],
      "execution_count": 322,
      "outputs": [
        {
          "output_type": "execute_result",
          "data": {
            "text/plain": [
              "array([[0., 0., 0., 0.],\n",
              "       [0., 0., 0., 1.],\n",
              "       [0., 0., 0., 2.],\n",
              "       [0., 0., 0., 3.],\n",
              "       [0., 0., 0., 4.],\n",
              "       [0., 0., 0., 5.],\n",
              "       [0., 0., 0., 6.],\n",
              "       [0., 0., 0., 7.],\n",
              "       [0., 0., 0., 8.],\n",
              "       [0., 0., 1., 0.],\n",
              "       [0., 0., 2., 0.],\n",
              "       [0., 0., 3., 0.],\n",
              "       [0., 0., 4., 0.],\n",
              "       [0., 0., 5., 0.],\n",
              "       [0., 0., 6., 0.],\n",
              "       [0., 0., 7., 0.],\n",
              "       [0., 0., 8., 0.],\n",
              "       [0., 1., 0., 0.],\n",
              "       [0., 2., 0., 0.],\n",
              "       [0., 3., 0., 0.],\n",
              "       [0., 4., 0., 0.],\n",
              "       [0., 5., 0., 0.],\n",
              "       [0., 6., 0., 0.],\n",
              "       [0., 7., 0., 0.],\n",
              "       [0., 8., 0., 0.],\n",
              "       [1., 0., 0., 0.],\n",
              "       [2., 0., 0., 0.],\n",
              "       [3., 0., 0., 0.],\n",
              "       [4., 0., 0., 0.],\n",
              "       [5., 0., 0., 0.],\n",
              "       [6., 0., 0., 0.],\n",
              "       [7., 0., 0., 0.],\n",
              "       [8., 0., 0., 0.]])"
            ]
          },
          "metadata": {
            "tags": []
          },
          "execution_count": 322
        }
      ]
    },
    {
      "cell_type": "code",
      "metadata": {
        "id": "1fa9r6OPF2f9",
        "colab_type": "code",
        "colab": {
          "base_uri": "https://localhost:8080/",
          "height": 34
        },
        "outputId": "aaa9a7a7-322b-464e-ea9d-cf41816e8e6a"
      },
      "source": [
        "stationary_state[open_states].sum()"
      ],
      "execution_count": 323,
      "outputs": [
        {
          "output_type": "execute_result",
          "data": {
            "text/plain": [
              "0.8428504362846775"
            ]
          },
          "metadata": {
            "tags": []
          },
          "execution_count": 323
        }
      ]
    },
    {
      "cell_type": "markdown",
      "metadata": {
        "id": "A-P1FgRkIFoh",
        "colab_type": "text"
      },
      "source": [
        "We can compare the open probabilities to our previously computed values, and see if the agree. "
      ]
    },
    {
      "cell_type": "markdown",
      "metadata": {
        "id": "ese1weUmHMHZ",
        "colab_type": "text"
      },
      "source": [
        "#### Biphasic calcium dependency"
      ]
    },
    {
      "cell_type": "code",
      "metadata": {
        "id": "AflMPVPnHOGF",
        "colab_type": "code",
        "colab": {}
      },
      "source": [
        "ca = [0.01,0.05,0.1,.5,1,5,10,50,100]#[10**x for x in np.arange(-10.,-1,0.25)] + np.arange(0.1,1,0.1).tolist() + np.arange(1,10,1).tolist() + np.arange(10,50,5).tolist() + np.arange(50,100,10).tolist() + np.arange(100,700,100).tolist() #,0.1,0.2,0.3,0.4,0.5,0.1,10,20,35,40,45] 0 for 50\n",
        "ca = np.array(ca)\n",
        "open_probs = np.zeros((4,ca.size))\n",
        "\n",
        "for i in range(ca.size): # parralelizable loop (ca conditions don't depend on each other)\n",
        "  P = compute_P(Ca=ca[i],IP3=10,dt=50e-6)\n",
        "  state_labels, P_4mer = make_P_4mer(P)\n",
        "\n",
        "  P_4mer_s = csr_matrix(P_4mer)\n",
        "  stationary_state = comp_stationary_state(P_4mer_s, do_sparse=True)\n",
        "  for n_protomers_act in [1,2,3,4]:\n",
        "    open_states = (state_labels == 0).sum(1) >= n_protomers_act\n",
        "    open_probs[n_protomers_act-1,i] = stationary_state[open_states].sum()\n"
      ],
      "execution_count": 38,
      "outputs": []
    },
    {
      "cell_type": "code",
      "metadata": {
        "id": "aDDKJSJjR7dh",
        "colab_type": "code",
        "colab": {
          "base_uri": "https://localhost:8080/",
          "height": 299
        },
        "outputId": "bca3f9a8-cd33-4af9-ee83-43948cf4307f"
      },
      "source": [
        "for n_protomers_act in [1,2,3,4]:\n",
        "  sr = pd.Series(open_probs[n_protomers_act-1])\n",
        "  sr.index = ca\n",
        "  ax = sr.plot(legend=True, label=n_protomers_act)\n",
        "  ax.set_xlabel('[Ca2+] (uM)')\n",
        "  ax.set_ylabel('Po')\n",
        "  plt.xscale('log')\n",
        "  ax.set_title('Biphasic Open Probability')\n"
      ],
      "execution_count": 41,
      "outputs": [
        {
          "output_type": "display_data",
          "data": {
            "image/png": "[encoded data removed]",
            "text/plain": [
              "<Figure size 432x288 with 1 Axes>"
            ]
          },
          "metadata": {
            "tags": [],
            "needs_background": "light"
          }
        }
      ]
    },
    {
      "cell_type": "markdown",
      "metadata": {
        "id": "lr934X_bPPzV",
        "colab_type": "text"
      },
      "source": [
        "### Combinatoric 4mer\n",
        "Let's try the combinatoric approach. This will make the matrix smaller, although less sparse. The number of tetramer states, where we don't distinguish the protomers are:\n",
        "$$\\sum_{i=1}^9i + \\sum_{i=1}^8i + \\sum_{i=1}^7i + \\sum_{i=1}^6i \\\\ \n",
        "= 9 -8 -8 -7 + 4*\\sum_{i=1}^8i = -14 + 4\\cdot 8 \\cdot 9 /2 \\\\ = 130$$\n",
        "\n",
        "In other words, there are 130 tupples of 4, where each index can take a value of 0 to 8. This means our stochastic matrix will only be length 130. \n",
        "\n",
        "TODO: there is a discrepancy and this calculation should yield 495."
      ]
    },
    {
      "cell_type": "code",
      "metadata": {
        "id": "CPIbA-IvPu56",
        "colab_type": "code",
        "colab": {}
      },
      "source": [
        "assert np.isclose(130,np.arange(1,9+1).sum() + np.arange(1,8+1).sum() + np.arange(1,7+1).sum() + np.arange(1,6+1).sum())"
      ],
      "execution_count": 74,
      "outputs": []
    },
    {
      "cell_type": "code",
      "metadata": {
        "id": "27gW8IhdQFSg",
        "colab_type": "code",
        "colab": {}
      },
      "source": [
        "@jit\n",
        "def make_combo_P_4mer_unnorm(log_P,P):\n",
        "  N = log_P.shape[0]\n",
        "  #log_P = np.log(P)\n",
        "  state_labels = np.zeros((N**4,4))\n",
        "  idx_transform = np.array([N**3,N**2,N**1,N**0])\n",
        "  P_4mer = np.zeros((N**4,N**4))\n",
        "  for idx_1_row in range(N):\n",
        "    for idx_2_row in range(N):\n",
        "      for idx_3_row in range(N):\n",
        "        for idx_4_row in range(N):\n",
        "          rows_states = np.array([idx_1_row,idx_2_row,idx_3_row,idx_4_row])\n",
        "          rows_states.sort()\n",
        "\n",
        "          state_labels[(idx_transform*rows_states).sum()] = rows_states\n",
        "\n",
        "          for idx_1_col in range(N):\n",
        "            if P[idx_1_row,idx_1_col] == 0: continue\n",
        "            for idx_2_col in range(N):\n",
        "              if P[idx_2_row,idx_2_col] == 0: continue\n",
        "              for idx_3_col in range(N):\n",
        "                if P[idx_3_row,idx_3_col] == 0: continue\n",
        "                for idx_4_col in range(N):\n",
        "                  if P[idx_4_row,idx_4_col] == 0: continue\n",
        "                  # reorder in redundant min to max order\n",
        "                  cols_states = np.array([idx_1_col,idx_2_col,idx_3_col,idx_4_col])\n",
        "                  cols_states.sort()\n",
        "                  \n",
        "                  # probs = np.array([log_P[idx_1_row,idx_1_col],log_P[idx_2_row,idx_2_col],log_P[idx_3_row,idx_3_col],log_P[idx_4_row,idx_4_col]])\n",
        "                  # if np.any(probs > 1):\n",
        "                  #   pass\n",
        "                  #   #print('and_prob',and_prob)\n",
        "                  # else:\n",
        "                  #print(rows_states,cols_states)\n",
        "                  logsum = log_P[idx_1_row,idx_1_col]+log_P[idx_2_row,idx_2_col]+log_P[idx_3_row,idx_3_col]+log_P[idx_4_row,idx_4_col]\n",
        "                  and_prob = np.exp(logsum) # multiply prob\n",
        "                  P_4mer[(idx_transform*rows_states).sum(),(idx_transform*cols_states).sum()] += and_prob\n",
        "\n",
        "                  #and_prob = P[idx_1_row,idx_1_col]*P[idx_2_row,idx_2_col]*P[idx_3_row,idx_3_col]*P[idx_4_row,idx_4_col]\n",
        "                  #P_4mer[9**3*idx_1_row+9**2*idx_2_row+9*idx_3_row+idx_4_row, 9**3*idx_1_col+9**2*idx_2_col+9*idx_3_col+idx_4_col] = P[idx_1_row,idx_1_col] + P[idx_2_row,idx_2_col] + P[idx_3_row,idx_3_col] + P[idx_4_row,idx_4_col]\n",
        "  \n",
        "  \n",
        "  # comb idx\n",
        "  comb_idx = (P_4mer.sum(1)>0)\n",
        "  tmp = P_4mer[comb_idx]\n",
        "  P_4mer_comb = tmp[:,comb_idx]\n",
        "  state_labels_comb = state_labels[comb_idx,:]\n",
        "  #row_sums = P_4mer.sum(1)\n",
        "  #assert np.allclose(row_sums, np.ones_like(row_sums))\n",
        "  return(state_labels_comb,P_4mer_comb)\n",
        "\n",
        "def make_combo_P_4mer(P):\n",
        "  '''https://stackoverflow.com/questions/8904694/how-to-normalize-a-2-dimensional-numpy-array-in-python-less-verbose\n",
        "  '''\n",
        "  log_P = np.log(P)\n",
        "  log_P[np.isclose(P,0)]=np.nan # numba friendly place holder for P of zero (-np.inf not numba friendly)\n",
        "  state_labels_comb,P_4mer_comb_unnorm = make_combo_P_4mer_unnorm(log_P,P)\n",
        "  P_4mer_comb = normalize(P_4mer_comb_unnorm, axis=1, norm='l1')\n",
        "  return(state_labels_comb,P_4mer_comb)\n"
      ],
      "execution_count": 64,
      "outputs": []
    },
    {
      "cell_type": "code",
      "metadata": {
        "id": "SwKAXlZqWJQS",
        "colab_type": "code",
        "colab": {
          "base_uri": "https://localhost:8080/",
          "height": 51
        },
        "outputId": "89496c25-1571-43c0-88c2-1748fa6d373f"
      },
      "source": [
        "P = compute_P(Ca=3)\n",
        "state_labels, P_4mer = make_combo_P_4mer(P)\n",
        "check_stochastic(P_4mer)\n",
        "P_4mer[0,0]"
      ],
      "execution_count": 65,
      "outputs": [
        {
          "output_type": "stream",
          "text": [
            "/usr/local/lib/python3.6/dist-packages/ipykernel_launcher.py:55: RuntimeWarning: divide by zero encountered in log\n"
          ],
          "name": "stderr"
        },
        {
          "output_type": "execute_result",
          "data": {
            "text/plain": [
              "0.984095744256"
            ]
          },
          "metadata": {
            "tags": []
          },
          "execution_count": 65
        }
      ]
    },
    {
      "cell_type": "code",
      "metadata": {
        "id": "PZb1FADu787e",
        "colab_type": "code",
        "colab": {}
      },
      "source": [
        "def get_state_idx(state,state_labels):\n",
        "  state_idx = np.all(np.isin(state_labels,state),1)\n",
        "  return(state_idx)\n",
        "state_idx=get_state_idx(state=[1,1,1,1],state_labels=state_labels)\n"
      ],
      "execution_count": 52,
      "outputs": []
    },
    {
      "cell_type": "markdown",
      "metadata": {
        "id": "AjcOw_t8z89p",
        "colab_type": "text"
      },
      "source": [
        "We can check things like $p(0000 \\rightarrow 0000) = p(0 \\rightarrow 0)^4$ and $p(0000 \\rightarrow 1111) = p(0 \\rightarrow 1)^4$."
      ]
    },
    {
      "cell_type": "code",
      "metadata": {
        "id": "9xSn_WpazK4S",
        "colab_type": "code",
        "colab": {}
      },
      "source": [
        "for state_1mer, state_4mer in zip([0,1],[[0,0,0,0],[1,1,1,1]]):\n",
        "  state_idx=get_state_idx(state=state_4mer,state_labels=state_labels)\n",
        "  assert np.isclose(P[0,state_1mer]**4, P_4mer[0,state_idx])\n",
        "  assert np.isclose(P[0,state_1mer]**4, P_4mer[0,state_idx])"
      ],
      "execution_count": 56,
      "outputs": []
    },
    {
      "cell_type": "code",
      "metadata": {
        "id": "ZsWJkyaLdX6H",
        "colab_type": "code",
        "colab": {
          "base_uri": "https://localhost:8080/",
          "height": 274
        },
        "outputId": "f5813b00-7b31-4eca-9b86-2b70d3948326"
      },
      "source": [
        "stationary_state = comp_stationary_state(P_4mer)\n",
        "sr = pd.Series(stationary_state)\n",
        "#sr.index = [''.join(x) for x in state_labels.astype('<U1')]\n",
        "sr.plot.bar()\n",
        "plt.yscale('log')"
      ],
      "execution_count": 57,
      "outputs": [
        {
          "output_type": "display_data",
          "data": {
            "image/png": "[encoded data removed]",
            "text/plain": [
              "<Figure size 432x288 with 1 Axes>"
            ]
          },
          "metadata": {
            "tags": [],
            "needs_background": "light"
          }
        }
      ]
    },
    {
      "cell_type": "code",
      "metadata": {
        "id": "bViRujTjjcjW",
        "colab_type": "code",
        "colab": {
          "base_uri": "https://localhost:8080/",
          "height": 34
        },
        "outputId": "1d73c5ff-2f94-42fc-e5aa-e23f0c037d4d"
      },
      "source": [
        "open_states = (state_labels == 0).sum(1) >= 4\n",
        "state_labels[open_states]"
      ],
      "execution_count": 66,
      "outputs": [
        {
          "output_type": "execute_result",
          "data": {
            "text/plain": [
              "array([[0., 0., 0., 0.]])"
            ]
          },
          "metadata": {
            "tags": []
          },
          "execution_count": 66
        }
      ]
    },
    {
      "cell_type": "code",
      "metadata": {
        "id": "G5Vs5EWbr40E",
        "colab_type": "code",
        "colab": {
          "base_uri": "https://localhost:8080/",
          "height": 34
        },
        "outputId": "76f7581b-37ec-493a-cda5-741485d8662e"
      },
      "source": [
        "stationary_state[open_states]"
      ],
      "execution_count": 67,
      "outputs": [
        {
          "output_type": "execute_result",
          "data": {
            "text/plain": [
              "array([0.4427487])"
            ]
          },
          "metadata": {
            "tags": []
          },
          "execution_count": 67
        }
      ]
    },
    {
      "cell_type": "code",
      "metadata": {
        "id": "cVBamWB2j9Tz",
        "colab_type": "code",
        "colab": {
          "base_uri": "https://localhost:8080/",
          "height": 34
        },
        "outputId": "8480db91-393c-4bc0-e7ba-09a58f770375"
      },
      "source": [
        "stationary_state[open_states].sum() "
      ],
      "execution_count": 68,
      "outputs": [
        {
          "output_type": "execute_result",
          "data": {
            "text/plain": [
              "0.44274869935714956"
            ]
          },
          "metadata": {
            "tags": []
          },
          "execution_count": 68
        }
      ]
    },
    {
      "cell_type": "markdown",
      "metadata": {
        "id": "C_sj52UnnCDn",
        "colab_type": "text"
      },
      "source": [
        "The open probability computed with this method should match our previous method."
      ]
    },
    {
      "cell_type": "code",
      "metadata": {
        "id": "_cB2_TOYseNn",
        "colab_type": "code",
        "colab": {
          "base_uri": "https://localhost:8080/",
          "height": 51
        },
        "outputId": "3801a8c0-d749-484a-a424-9ee35d73c9b0"
      },
      "source": [
        "%%time\n",
        "P_inf = np.linalg.matrix_power(P_4mer,10**7)#10 000 000"
      ],
      "execution_count": 78,
      "outputs": [
        {
          "output_type": "stream",
          "text": [
            "CPU times: user 540 ms, sys: 177 ms, total: 717 ms\n",
            "Wall time: 191 ms\n"
          ],
          "name": "stdout"
        }
      ]
    },
    {
      "cell_type": "code",
      "metadata": {
        "id": "EaAn_rQxsmZv",
        "colab_type": "code",
        "colab": {
          "base_uri": "https://localhost:8080/",
          "height": 374
        },
        "outputId": "e65de80a-1479-48c3-f770-6a21151eb602"
      },
      "source": [
        "v = np.ones_like(P_4mer[0])\n",
        "v /= v.sum()\n",
        "stationary_state = np.dot(v,P_inf)\n",
        "assert np.allclose(stationary_state,np.dot(stationary_state,P_4mer)) # check for stationary\n",
        "assert np.isclose(stationary_state.sum(),1)\n",
        "stationary_state[open_states]"
      ],
      "execution_count": 116,
      "outputs": [
        {
          "output_type": "execute_result",
          "data": {
            "text/plain": [
              "array([4.76190476e-03, 2.62219502e-05, 2.09780732e-02, 5.87430153e-07,\n",
              "       7.00616125e-03, 2.58893062e-07, 5.60125839e-04, 8.44354814e-08,\n",
              "       1.35100044e-04, 3.74833060e-09, 4.47052473e-05, 1.65197402e-09,\n",
              "       3.57408947e-06, 5.40413269e-02, 2.99873970e-06, 3.57650950e-02,\n",
              "       1.32161237e-06, 2.85934330e-03, 4.30648165e-11, 1.02727177e-06,\n",
              "       3.79589043e-11, 8.21271858e-08, 6.12615706e-03, 4.52737452e-07,\n",
              "       9.79534428e-04, 8.36459166e-12, 3.61949525e-08, 3.91553665e-05,\n",
              "       2.07663989e-10, 4.98405535e-07, 1.36982807e-11, 1.63374130e-07,\n",
              "       6.03715843e-12, 1.30614591e-08, 3.98733999e-04, 2.19177943e-08,\n",
              "       2.61405111e-04, 9.65969375e-09, 2.08988543e-05, 3.12121494e-13,\n",
              "       7.44532250e-09, 2.75115947e-13, 5.95232151e-10, 4.44000409e-05,\n",
              "       3.28129747e-09, 7.09931144e-06, 6.06244572e-14, 2.62330310e-10,\n",
              "       2.83784778e-07, 1.06331618e-01, 8.76733578e-06, 1.04564645e-01,\n",
              "       3.86397361e-06, 8.35974967e-03, 2.49703602e-10, 5.95641083e-06,\n",
              "       2.20098405e-10, 4.76197939e-07, 3.55209442e-02, 2.62510533e-06,\n",
              "       5.67959488e-03, 4.85008102e-11, 2.09869632e-07, 2.27033648e-04,\n",
              "       2.44530074e-15, 8.74971684e-11, 3.23304616e-15, 6.99507221e-12,\n",
              "       1.04360096e-06, 7.71227243e-11, 1.66864006e-07, 1.42485371e-15,\n",
              "       6.16567412e-12, 6.67007737e-09, 4.14909803e-03, 4.59931163e-07,\n",
              "       9.95114713e-04, 1.69945917e-11, 7.35395610e-08, 7.95557080e-05,\n",
              "       2.09318395e-16, 1.35865422e-12, 2.93960678e-09, 2.12006067e-06])"
            ]
          },
          "metadata": {
            "tags": []
          },
          "execution_count": 116
        }
      ]
    },
    {
      "cell_type": "code",
      "metadata": {
        "id": "F-FVmKcJt5Sd",
        "colab_type": "code",
        "colab": {
          "base_uri": "https://localhost:8080/",
          "height": 34
        },
        "outputId": "312c29da-9016-4a1a-f310-cc9904dd1d8b"
      },
      "source": [
        "stationary_state[open_states].sum()"
      ],
      "execution_count": 80,
      "outputs": [
        {
          "output_type": "execute_result",
          "data": {
            "text/plain": [
              "0.44274869935714956"
            ]
          },
          "metadata": {
            "tags": []
          },
          "execution_count": 80
        }
      ]
    },
    {
      "cell_type": "markdown",
      "metadata": {
        "id": "jra5tqZr-WOD",
        "colab_type": "text"
      },
      "source": [
        "#### Biphasic calcium dependency"
      ]
    },
    {
      "cell_type": "code",
      "metadata": {
        "id": "Tkpi6FsK-ZyM",
        "colab_type": "code",
        "colab": {}
      },
      "source": [
        "ca = [10**x for x in np.arange(-10.,-1,0.25)] + np.arange(0.1,1,0.1).tolist() + np.arange(1,10,1).tolist() + np.arange(10,50,5).tolist() + np.arange(50,100,10).tolist() + np.arange(100,700,100).tolist() #,0.1,0.2,0.3,0.4,0.5,0.1,10,20,35,40,45] 0 for 50\n",
        "ca = np.array(ca)\n",
        "open_probs = np.zeros((4,ca.size))\n",
        "\n",
        "for i in range(ca.size): # parralelizable loop (ca conditions don't depend on each other)\n",
        "  P = compute_P(Ca=ca[i],IP3=10,dt=50e-6)\n",
        "  state_labels, P_4mer = make_combo_P_4mer(P.copy()) # number of accessible states changes (some probs go to zero)\n",
        "  for n_protomers_act in [1,2,3,4]:\n",
        "    open_states = (state_labels == 0).sum(1) >= n_protomers_act\n",
        "    P_inf = np.linalg.matrix_power(P_4mer.copy(),10**7)\n",
        "    v = np.ones_like(P_4mer[0])\n",
        "    v /= v.sum()\n",
        "    stationary_states = np.dot(v,P_inf)\n",
        "    open_probs[n_protomers_act-1,i] = stationary_states[open_states].sum()\n"
      ],
      "execution_count": null,
      "outputs": []
    },
    {
      "cell_type": "code",
      "metadata": {
        "id": "4GSuhJ7wCUlT",
        "colab_type": "code",
        "colab": {
          "base_uri": "https://localhost:8080/",
          "height": 299
        },
        "outputId": "657d36cb-7546-4e0a-cb19-efeedb8c2952"
      },
      "source": [
        "for n_protomers_act in [1,2,3,4]:\n",
        "  sr = pd.Series(open_probs[n_protomers_act-1])\n",
        "  sr.index = ca\n",
        "  ax = sr.plot(legend=True, label=n_protomers_act)\n",
        "  ax.set_xlabel('[Ca2+] (uM)')\n",
        "  ax.set_ylabel('Po')\n",
        "  plt.xscale('log')\n",
        "  ax.set_title('Biphasic Open Probability')\n",
        "  # TODO: investigate why goes up at low calcium"
      ],
      "execution_count": 160,
      "outputs": [
        {
          "output_type": "display_data",
          "data": {
            "image/png": "[encoded data removed]",
            "text/plain": [
              "<Figure size 432x288 with 1 Axes>"
            ]
          },
          "metadata": {
            "tags": [],
            "needs_background": "light"
          }
        }
      ]
    }
  ]
}